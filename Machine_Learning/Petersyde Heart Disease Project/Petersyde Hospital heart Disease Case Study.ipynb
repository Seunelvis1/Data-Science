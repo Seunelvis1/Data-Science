{
 "cells": [
  {
   "cell_type": "code",
   "execution_count": 3,
   "id": "f01a5c3d-80db-4aca-93ed-e87b6fc58fbb",
   "metadata": {},
   "outputs": [],
   "source": [
    "# Import Libraries\n",
    "\n",
    "# For Data analysis\n",
    "import pandas as pd\n",
    "import numpy as np\n",
    "# Data Visualization\n",
    "import matplotlib.pyplot as plt \n",
    "import seaborn as sns\n",
    "# Data Pre-processing\n",
    "from sklearn.model_selection import train_test_split\n",
    "from sklearn.preprocessing import MinMaxScaler\n",
    "\n",
    "# classifier Libraries\n",
    "from sklearn.linear_model import SGDClassifier\n",
    "from sklearn.neighbors import KNeighborsClassifier\n",
    "from sklearn.ensemble import RandomForestClassifier\n",
    "from sklearn.linear_model import LogisticRegression\n",
    "#!pip install xgboost\n",
    "from xgboost import XGBClassifier\n",
    "from sklearn.svm import LinearSVC, SVC\n",
    "from sklearn.naive_bayes import GaussianNB\n",
    "from sklearn.tree import DecisionTreeClassifier\n",
    "\n",
    "# Evaluation Metrics\n",
    "from sklearn.metrics import accuracy_score, precision_score, recall_score, f1_score, roc_auc_score\n",
    "from sklearn.metrics import confusion_matrix\n",
    "\n",
    "import warnings\n",
    "warnings.filterwarnings(\"ignore\")\n"
   ]
  },
  {
   "cell_type": "code",
   "execution_count": 2,
   "id": "ce100932-8b3e-477c-b060-f692e5bcf87a",
   "metadata": {},
   "outputs": [
    {
     "data": {
      "text/html": [
       "<div>\n",
       "<style scoped>\n",
       "    .dataframe tbody tr th:only-of-type {\n",
       "        vertical-align: middle;\n",
       "    }\n",
       "\n",
       "    .dataframe tbody tr th {\n",
       "        vertical-align: top;\n",
       "    }\n",
       "\n",
       "    .dataframe thead th {\n",
       "        text-align: right;\n",
       "    }\n",
       "</style>\n",
       "<table border=\"1\" class=\"dataframe\">\n",
       "  <thead>\n",
       "    <tr style=\"text-align: right;\">\n",
       "      <th></th>\n",
       "      <th>age</th>\n",
       "      <th>sex</th>\n",
       "      <th>cp</th>\n",
       "      <th>trestbps</th>\n",
       "      <th>chol</th>\n",
       "      <th>fbs</th>\n",
       "      <th>restecg</th>\n",
       "      <th>thalach</th>\n",
       "      <th>exang</th>\n",
       "      <th>oldpeak</th>\n",
       "      <th>slope</th>\n",
       "      <th>ca</th>\n",
       "      <th>thal</th>\n",
       "      <th>target</th>\n",
       "    </tr>\n",
       "  </thead>\n",
       "  <tbody>\n",
       "    <tr>\n",
       "      <th>0</th>\n",
       "      <td>63</td>\n",
       "      <td>1</td>\n",
       "      <td>3</td>\n",
       "      <td>145</td>\n",
       "      <td>233</td>\n",
       "      <td>1</td>\n",
       "      <td>0</td>\n",
       "      <td>150</td>\n",
       "      <td>0</td>\n",
       "      <td>2.3</td>\n",
       "      <td>0</td>\n",
       "      <td>0</td>\n",
       "      <td>1</td>\n",
       "      <td>1</td>\n",
       "    </tr>\n",
       "    <tr>\n",
       "      <th>1</th>\n",
       "      <td>37</td>\n",
       "      <td>1</td>\n",
       "      <td>2</td>\n",
       "      <td>130</td>\n",
       "      <td>250</td>\n",
       "      <td>0</td>\n",
       "      <td>1</td>\n",
       "      <td>187</td>\n",
       "      <td>0</td>\n",
       "      <td>3.5</td>\n",
       "      <td>0</td>\n",
       "      <td>0</td>\n",
       "      <td>2</td>\n",
       "      <td>1</td>\n",
       "    </tr>\n",
       "    <tr>\n",
       "      <th>2</th>\n",
       "      <td>41</td>\n",
       "      <td>0</td>\n",
       "      <td>1</td>\n",
       "      <td>130</td>\n",
       "      <td>204</td>\n",
       "      <td>0</td>\n",
       "      <td>0</td>\n",
       "      <td>172</td>\n",
       "      <td>0</td>\n",
       "      <td>1.4</td>\n",
       "      <td>2</td>\n",
       "      <td>0</td>\n",
       "      <td>2</td>\n",
       "      <td>1</td>\n",
       "    </tr>\n",
       "    <tr>\n",
       "      <th>3</th>\n",
       "      <td>56</td>\n",
       "      <td>1</td>\n",
       "      <td>1</td>\n",
       "      <td>120</td>\n",
       "      <td>236</td>\n",
       "      <td>0</td>\n",
       "      <td>1</td>\n",
       "      <td>178</td>\n",
       "      <td>0</td>\n",
       "      <td>0.8</td>\n",
       "      <td>2</td>\n",
       "      <td>0</td>\n",
       "      <td>2</td>\n",
       "      <td>1</td>\n",
       "    </tr>\n",
       "    <tr>\n",
       "      <th>4</th>\n",
       "      <td>57</td>\n",
       "      <td>0</td>\n",
       "      <td>0</td>\n",
       "      <td>120</td>\n",
       "      <td>354</td>\n",
       "      <td>0</td>\n",
       "      <td>1</td>\n",
       "      <td>163</td>\n",
       "      <td>1</td>\n",
       "      <td>0.6</td>\n",
       "      <td>2</td>\n",
       "      <td>0</td>\n",
       "      <td>2</td>\n",
       "      <td>1</td>\n",
       "    </tr>\n",
       "  </tbody>\n",
       "</table>\n",
       "</div>"
      ],
      "text/plain": [
       "   age  sex  cp  trestbps  chol  fbs  restecg  thalach  exang  oldpeak  slope  \\\n",
       "0   63    1   3       145   233    1        0      150      0      2.3      0   \n",
       "1   37    1   2       130   250    0        1      187      0      3.5      0   \n",
       "2   41    0   1       130   204    0        0      172      0      1.4      2   \n",
       "3   56    1   1       120   236    0        1      178      0      0.8      2   \n",
       "4   57    0   0       120   354    0        1      163      1      0.6      2   \n",
       "\n",
       "   ca  thal  target  \n",
       "0   0     1       1  \n",
       "1   0     2       1  \n",
       "2   0     2       1  \n",
       "3   0     2       1  \n",
       "4   0     2       1  "
      ]
     },
     "execution_count": 2,
     "metadata": {},
     "output_type": "execute_result"
    }
   ],
   "source": [
    "df = pd.read_excel(r'C:\\Users\\User\\Downloads\\heart.xlsx')\n",
    "df.head()"
   ]
  },
  {
   "cell_type": "code",
   "execution_count": 6,
   "id": "f3a79143-4dda-4e95-8a50-057ff688f7d0",
   "metadata": {},
   "outputs": [
    {
     "data": {
      "text/html": [
       "<div>\n",
       "<style scoped>\n",
       "    .dataframe tbody tr th:only-of-type {\n",
       "        vertical-align: middle;\n",
       "    }\n",
       "\n",
       "    .dataframe tbody tr th {\n",
       "        vertical-align: top;\n",
       "    }\n",
       "\n",
       "    .dataframe thead th {\n",
       "        text-align: right;\n",
       "    }\n",
       "</style>\n",
       "<table border=\"1\" class=\"dataframe\">\n",
       "  <thead>\n",
       "    <tr style=\"text-align: right;\">\n",
       "      <th></th>\n",
       "      <th>age</th>\n",
       "      <th>sex</th>\n",
       "      <th>chesta_pain_type</th>\n",
       "      <th>resting_blood_pressure</th>\n",
       "      <th>cholesterol</th>\n",
       "      <th>fasting_blood_sugar</th>\n",
       "      <th>rest_ecg</th>\n",
       "      <th>max_heart_reate_achieved</th>\n",
       "      <th>exercise_induced_angina</th>\n",
       "      <th>st_depression</th>\n",
       "      <th>st_slope</th>\n",
       "      <th>num_major_vessels</th>\n",
       "      <th>thalassemia</th>\n",
       "      <th>target</th>\n",
       "    </tr>\n",
       "  </thead>\n",
       "  <tbody>\n",
       "    <tr>\n",
       "      <th>0</th>\n",
       "      <td>63</td>\n",
       "      <td>1</td>\n",
       "      <td>3</td>\n",
       "      <td>145</td>\n",
       "      <td>233</td>\n",
       "      <td>1</td>\n",
       "      <td>0</td>\n",
       "      <td>150</td>\n",
       "      <td>0</td>\n",
       "      <td>2.3</td>\n",
       "      <td>0</td>\n",
       "      <td>0</td>\n",
       "      <td>1</td>\n",
       "      <td>1</td>\n",
       "    </tr>\n",
       "    <tr>\n",
       "      <th>1</th>\n",
       "      <td>37</td>\n",
       "      <td>1</td>\n",
       "      <td>2</td>\n",
       "      <td>130</td>\n",
       "      <td>250</td>\n",
       "      <td>0</td>\n",
       "      <td>1</td>\n",
       "      <td>187</td>\n",
       "      <td>0</td>\n",
       "      <td>3.5</td>\n",
       "      <td>0</td>\n",
       "      <td>0</td>\n",
       "      <td>2</td>\n",
       "      <td>1</td>\n",
       "    </tr>\n",
       "    <tr>\n",
       "      <th>2</th>\n",
       "      <td>41</td>\n",
       "      <td>0</td>\n",
       "      <td>1</td>\n",
       "      <td>130</td>\n",
       "      <td>204</td>\n",
       "      <td>0</td>\n",
       "      <td>0</td>\n",
       "      <td>172</td>\n",
       "      <td>0</td>\n",
       "      <td>1.4</td>\n",
       "      <td>2</td>\n",
       "      <td>0</td>\n",
       "      <td>2</td>\n",
       "      <td>1</td>\n",
       "    </tr>\n",
       "    <tr>\n",
       "      <th>3</th>\n",
       "      <td>56</td>\n",
       "      <td>1</td>\n",
       "      <td>1</td>\n",
       "      <td>120</td>\n",
       "      <td>236</td>\n",
       "      <td>0</td>\n",
       "      <td>1</td>\n",
       "      <td>178</td>\n",
       "      <td>0</td>\n",
       "      <td>0.8</td>\n",
       "      <td>2</td>\n",
       "      <td>0</td>\n",
       "      <td>2</td>\n",
       "      <td>1</td>\n",
       "    </tr>\n",
       "    <tr>\n",
       "      <th>4</th>\n",
       "      <td>57</td>\n",
       "      <td>0</td>\n",
       "      <td>0</td>\n",
       "      <td>120</td>\n",
       "      <td>354</td>\n",
       "      <td>0</td>\n",
       "      <td>1</td>\n",
       "      <td>163</td>\n",
       "      <td>1</td>\n",
       "      <td>0.6</td>\n",
       "      <td>2</td>\n",
       "      <td>0</td>\n",
       "      <td>2</td>\n",
       "      <td>1</td>\n",
       "    </tr>\n",
       "  </tbody>\n",
       "</table>\n",
       "</div>"
      ],
      "text/plain": [
       "   age  sex  chesta_pain_type  resting_blood_pressure  cholesterol  \\\n",
       "0   63    1                 3                     145          233   \n",
       "1   37    1                 2                     130          250   \n",
       "2   41    0                 1                     130          204   \n",
       "3   56    1                 1                     120          236   \n",
       "4   57    0                 0                     120          354   \n",
       "\n",
       "   fasting_blood_sugar  rest_ecg  max_heart_reate_achieved  \\\n",
       "0                    1         0                       150   \n",
       "1                    0         1                       187   \n",
       "2                    0         0                       172   \n",
       "3                    0         1                       178   \n",
       "4                    0         1                       163   \n",
       "\n",
       "   exercise_induced_angina  st_depression  st_slope  num_major_vessels  \\\n",
       "0                        0            2.3         0                  0   \n",
       "1                        0            3.5         0                  0   \n",
       "2                        0            1.4         2                  0   \n",
       "3                        0            0.8         2                  0   \n",
       "4                        1            0.6         2                  0   \n",
       "\n",
       "   thalassemia  target  \n",
       "0            1       1  \n",
       "1            2       1  \n",
       "2            2       1  \n",
       "3            2       1  \n",
       "4            2       1  "
      ]
     },
     "execution_count": 6,
     "metadata": {},
     "output_type": "execute_result"
    }
   ],
   "source": [
    "df.columns = ['age', 'sex', 'chesta_pain_type', 'resting_blood_pressure', 'cholesterol', 'fasting_blood_sugar', 'rest_ecg', 'max_heart_reate_achieved', 'exercise_induced_angina', 'st_depression', 'st_slope', 'num_major_vessels', 'thalassemia', 'target']\n",
    "df.head()"
   ]
  },
  {
   "cell_type": "code",
   "execution_count": 8,
   "id": "93b27b4b-d30d-4ac6-8c4d-b2c7f5a2c948",
   "metadata": {},
   "outputs": [
    {
     "name": "stdout",
     "output_type": "stream",
     "text": [
      "<class 'pandas.core.frame.DataFrame'>\n",
      "RangeIndex: 303 entries, 0 to 302\n",
      "Data columns (total 14 columns):\n",
      " #   Column                    Non-Null Count  Dtype  \n",
      "---  ------                    --------------  -----  \n",
      " 0   age                       303 non-null    int64  \n",
      " 1   sex                       303 non-null    int64  \n",
      " 2   chesta_pain_type          303 non-null    int64  \n",
      " 3   resting_blood_pressure    303 non-null    int64  \n",
      " 4   cholesterol               303 non-null    int64  \n",
      " 5   fasting_blood_sugar       303 non-null    int64  \n",
      " 6   rest_ecg                  303 non-null    int64  \n",
      " 7   max_heart_reate_achieved  303 non-null    int64  \n",
      " 8   exercise_induced_angina   303 non-null    int64  \n",
      " 9   st_depression             303 non-null    float64\n",
      " 10  st_slope                  303 non-null    int64  \n",
      " 11  num_major_vessels         303 non-null    int64  \n",
      " 12  thalassemia               303 non-null    int64  \n",
      " 13  target                    303 non-null    int64  \n",
      "dtypes: float64(1), int64(13)\n",
      "memory usage: 33.3 KB\n"
     ]
    }
   ],
   "source": [
    "# data verification - Data type, number of features and rows, missing data etc.\n",
    "df.info()"
   ]
  },
  {
   "cell_type": "code",
   "execution_count": 23,
   "id": "cbdb31ff-5c37-450b-ad6b-562fa169a260",
   "metadata": {},
   "outputs": [
    {
     "data": {
      "text/html": [
       "<div>\n",
       "<style scoped>\n",
       "    .dataframe tbody tr th:only-of-type {\n",
       "        vertical-align: middle;\n",
       "    }\n",
       "\n",
       "    .dataframe tbody tr th {\n",
       "        vertical-align: top;\n",
       "    }\n",
       "\n",
       "    .dataframe thead th {\n",
       "        text-align: right;\n",
       "    }\n",
       "</style>\n",
       "<table border=\"1\" class=\"dataframe\">\n",
       "  <thead>\n",
       "    <tr style=\"text-align: right;\">\n",
       "      <th></th>\n",
       "      <th>age</th>\n",
       "      <th>sex</th>\n",
       "      <th>chesta_pain_type</th>\n",
       "      <th>resting_blood_pressure</th>\n",
       "      <th>cholesterol</th>\n",
       "      <th>fasting_blood_sugar</th>\n",
       "      <th>rest_ecg</th>\n",
       "      <th>max_heart_reate_achieved</th>\n",
       "      <th>exercise_induced_angina</th>\n",
       "      <th>st_depression</th>\n",
       "      <th>st_slope</th>\n",
       "      <th>num_major_vessels</th>\n",
       "      <th>thalassemia</th>\n",
       "      <th>target</th>\n",
       "    </tr>\n",
       "  </thead>\n",
       "  <tbody>\n",
       "    <tr>\n",
       "      <th>count</th>\n",
       "      <td>303.000000</td>\n",
       "      <td>303.000000</td>\n",
       "      <td>303.000000</td>\n",
       "      <td>303.000000</td>\n",
       "      <td>303.000000</td>\n",
       "      <td>303.000000</td>\n",
       "      <td>303.000000</td>\n",
       "      <td>303.000000</td>\n",
       "      <td>303.000000</td>\n",
       "      <td>303.000000</td>\n",
       "      <td>303.000000</td>\n",
       "      <td>303.000000</td>\n",
       "      <td>303.000000</td>\n",
       "      <td>303.000000</td>\n",
       "    </tr>\n",
       "    <tr>\n",
       "      <th>mean</th>\n",
       "      <td>54.366337</td>\n",
       "      <td>0.683168</td>\n",
       "      <td>0.966997</td>\n",
       "      <td>131.623762</td>\n",
       "      <td>246.264026</td>\n",
       "      <td>0.148515</td>\n",
       "      <td>0.528053</td>\n",
       "      <td>149.646865</td>\n",
       "      <td>0.326733</td>\n",
       "      <td>1.039604</td>\n",
       "      <td>1.399340</td>\n",
       "      <td>0.729373</td>\n",
       "      <td>2.313531</td>\n",
       "      <td>0.544554</td>\n",
       "    </tr>\n",
       "    <tr>\n",
       "      <th>std</th>\n",
       "      <td>9.082101</td>\n",
       "      <td>0.466011</td>\n",
       "      <td>1.032052</td>\n",
       "      <td>17.538143</td>\n",
       "      <td>51.830751</td>\n",
       "      <td>0.356198</td>\n",
       "      <td>0.525860</td>\n",
       "      <td>22.905161</td>\n",
       "      <td>0.469794</td>\n",
       "      <td>1.161075</td>\n",
       "      <td>0.616226</td>\n",
       "      <td>1.022606</td>\n",
       "      <td>0.612277</td>\n",
       "      <td>0.498835</td>\n",
       "    </tr>\n",
       "    <tr>\n",
       "      <th>min</th>\n",
       "      <td>29.000000</td>\n",
       "      <td>0.000000</td>\n",
       "      <td>0.000000</td>\n",
       "      <td>94.000000</td>\n",
       "      <td>126.000000</td>\n",
       "      <td>0.000000</td>\n",
       "      <td>0.000000</td>\n",
       "      <td>71.000000</td>\n",
       "      <td>0.000000</td>\n",
       "      <td>0.000000</td>\n",
       "      <td>0.000000</td>\n",
       "      <td>0.000000</td>\n",
       "      <td>0.000000</td>\n",
       "      <td>0.000000</td>\n",
       "    </tr>\n",
       "    <tr>\n",
       "      <th>25%</th>\n",
       "      <td>47.500000</td>\n",
       "      <td>0.000000</td>\n",
       "      <td>0.000000</td>\n",
       "      <td>120.000000</td>\n",
       "      <td>211.000000</td>\n",
       "      <td>0.000000</td>\n",
       "      <td>0.000000</td>\n",
       "      <td>133.500000</td>\n",
       "      <td>0.000000</td>\n",
       "      <td>0.000000</td>\n",
       "      <td>1.000000</td>\n",
       "      <td>0.000000</td>\n",
       "      <td>2.000000</td>\n",
       "      <td>0.000000</td>\n",
       "    </tr>\n",
       "    <tr>\n",
       "      <th>50%</th>\n",
       "      <td>55.000000</td>\n",
       "      <td>1.000000</td>\n",
       "      <td>1.000000</td>\n",
       "      <td>130.000000</td>\n",
       "      <td>240.000000</td>\n",
       "      <td>0.000000</td>\n",
       "      <td>1.000000</td>\n",
       "      <td>153.000000</td>\n",
       "      <td>0.000000</td>\n",
       "      <td>0.800000</td>\n",
       "      <td>1.000000</td>\n",
       "      <td>0.000000</td>\n",
       "      <td>2.000000</td>\n",
       "      <td>1.000000</td>\n",
       "    </tr>\n",
       "    <tr>\n",
       "      <th>75%</th>\n",
       "      <td>61.000000</td>\n",
       "      <td>1.000000</td>\n",
       "      <td>2.000000</td>\n",
       "      <td>140.000000</td>\n",
       "      <td>274.500000</td>\n",
       "      <td>0.000000</td>\n",
       "      <td>1.000000</td>\n",
       "      <td>166.000000</td>\n",
       "      <td>1.000000</td>\n",
       "      <td>1.600000</td>\n",
       "      <td>2.000000</td>\n",
       "      <td>1.000000</td>\n",
       "      <td>3.000000</td>\n",
       "      <td>1.000000</td>\n",
       "    </tr>\n",
       "    <tr>\n",
       "      <th>max</th>\n",
       "      <td>77.000000</td>\n",
       "      <td>1.000000</td>\n",
       "      <td>3.000000</td>\n",
       "      <td>200.000000</td>\n",
       "      <td>564.000000</td>\n",
       "      <td>1.000000</td>\n",
       "      <td>2.000000</td>\n",
       "      <td>202.000000</td>\n",
       "      <td>1.000000</td>\n",
       "      <td>6.200000</td>\n",
       "      <td>2.000000</td>\n",
       "      <td>4.000000</td>\n",
       "      <td>3.000000</td>\n",
       "      <td>1.000000</td>\n",
       "    </tr>\n",
       "  </tbody>\n",
       "</table>\n",
       "</div>"
      ],
      "text/plain": [
       "              age         sex  chesta_pain_type  resting_blood_pressure  \\\n",
       "count  303.000000  303.000000        303.000000              303.000000   \n",
       "mean    54.366337    0.683168          0.966997              131.623762   \n",
       "std      9.082101    0.466011          1.032052               17.538143   \n",
       "min     29.000000    0.000000          0.000000               94.000000   \n",
       "25%     47.500000    0.000000          0.000000              120.000000   \n",
       "50%     55.000000    1.000000          1.000000              130.000000   \n",
       "75%     61.000000    1.000000          2.000000              140.000000   \n",
       "max     77.000000    1.000000          3.000000              200.000000   \n",
       "\n",
       "       cholesterol  fasting_blood_sugar    rest_ecg  max_heart_reate_achieved  \\\n",
       "count   303.000000           303.000000  303.000000                303.000000   \n",
       "mean    246.264026             0.148515    0.528053                149.646865   \n",
       "std      51.830751             0.356198    0.525860                 22.905161   \n",
       "min     126.000000             0.000000    0.000000                 71.000000   \n",
       "25%     211.000000             0.000000    0.000000                133.500000   \n",
       "50%     240.000000             0.000000    1.000000                153.000000   \n",
       "75%     274.500000             0.000000    1.000000                166.000000   \n",
       "max     564.000000             1.000000    2.000000                202.000000   \n",
       "\n",
       "       exercise_induced_angina  st_depression    st_slope  num_major_vessels  \\\n",
       "count               303.000000     303.000000  303.000000         303.000000   \n",
       "mean                  0.326733       1.039604    1.399340           0.729373   \n",
       "std                   0.469794       1.161075    0.616226           1.022606   \n",
       "min                   0.000000       0.000000    0.000000           0.000000   \n",
       "25%                   0.000000       0.000000    1.000000           0.000000   \n",
       "50%                   0.000000       0.800000    1.000000           0.000000   \n",
       "75%                   1.000000       1.600000    2.000000           1.000000   \n",
       "max                   1.000000       6.200000    2.000000           4.000000   \n",
       "\n",
       "       thalassemia      target  \n",
       "count   303.000000  303.000000  \n",
       "mean      2.313531    0.544554  \n",
       "std       0.612277    0.498835  \n",
       "min       0.000000    0.000000  \n",
       "25%       2.000000    0.000000  \n",
       "50%       2.000000    1.000000  \n",
       "75%       3.000000    1.000000  \n",
       "max       3.000000    1.000000  "
      ]
     },
     "execution_count": 23,
     "metadata": {},
     "output_type": "execute_result"
    }
   ],
   "source": [
    "# Statistical Analysis of the data\n",
    "df.describe()"
   ]
  },
  {
   "cell_type": "code",
   "execution_count": 29,
   "id": "67a253f6-8116-4ab0-bcc1-3585735add12",
   "metadata": {},
   "outputs": [
    {
     "name": "stdout",
     "output_type": "stream",
     "text": [
      "age                         0\n",
      "sex                         0\n",
      "chesta_pain_type            0\n",
      "resting_blood_pressure      0\n",
      "cholesterol                 0\n",
      "fasting_blood_sugar         0\n",
      "rest_ecg                    0\n",
      "max_heart_reate_achieved    0\n",
      "exercise_induced_angina     0\n",
      "st_depression               0\n",
      "st_slope                    0\n",
      "num_major_vessels           0\n",
      "thalassemia                 0\n",
      "target                      0\n",
      "dtype: int64\n"
     ]
    },
    {
     "data": {
      "image/png": "[encoded data removed]",
      "text/plain": [
       "<Figure size 1000x300 with 2 Axes>"
      ]
     },
     "metadata": {},
     "output_type": "display_data"
    }
   ],
   "source": [
    "# check for missing Values\n",
    "print(df.isnull().sum())\n",
    "\n",
    "# Visualizing the missing data\n",
    "plt.figure(figsize=(10,3))\n",
    "sns.heatmap(df.isnull(), cbar=True, cmap='Blues_r');"
   ]
  },
  {
   "cell_type": "markdown",
   "id": "f48a72ea-61d3-4107-b614-68c5c0789ef6",
   "metadata": {},
   "source": [
    "### Exploratory Data Analysis"
   ]
  },
  {
   "cell_type": "markdown",
   "id": "3dcedf86-e1f7-4386-81f5-94931a2b328a",
   "metadata": {},
   "source": [
    "#### Univariate Analysis"
   ]
  },
  {
   "cell_type": "code",
   "execution_count": 33,
   "id": "b2359321-7b5b-43ae-be06-3d89eba2bb43",
   "metadata": {},
   "outputs": [
    {
     "data": {
      "text/plain": [
       "Index(['age', 'sex', 'chesta_pain_type', 'resting_blood_pressure',\n",
       "       'cholesterol', 'fasting_blood_sugar', 'rest_ecg',\n",
       "       'max_heart_reate_achieved', 'exercise_induced_angina', 'st_depression',\n",
       "       'st_slope', 'num_major_vessels', 'thalassemia', 'target'],\n",
       "      dtype='object')"
      ]
     },
     "execution_count": 33,
     "metadata": {},
     "output_type": "execute_result"
    }
   ],
   "source": [
    "df.columns"
   ]
  },
  {
   "cell_type": "code",
   "execution_count": 37,
   "id": "4d85e9f2-14dc-4405-bf36-95e3a4705768",
   "metadata": {},
   "outputs": [
    {
     "data": {
      "image/png": "[encoded data removed]",
      "text/plain": [
       "<Figure size 640x480 with 1 Axes>"
      ]
     },
     "metadata": {},
     "output_type": "display_data"
    }
   ],
   "source": [
    "# check for outliers\n",
    "sns.boxplot(x=df['thalassemia']);"
   ]
  },
  {
   "cell_type": "code",
   "execution_count": 39,
   "id": "e58ba275-e974-4e79-9785-dc20ed6c8db3",
   "metadata": {},
   "outputs": [
    {
     "data": {
      "image/png": "[encoded data removed]",
      "text/plain": [
       "<Figure size 640x480 with 1 Axes>"
      ]
     },
     "metadata": {},
     "output_type": "display_data"
    }
   ],
   "source": [
    "sns.boxplot(x=df['cholesterol']);"
   ]
  },
  {
   "cell_type": "code",
   "execution_count": 41,
   "id": "064af107-65b7-4ee8-8781-00b53deaa1cc",
   "metadata": {},
   "outputs": [
    {
     "data": {
      "image/png": "[encoded data removed]",
      "text/plain": [
       "<Figure size 640x480 with 1 Axes>"
      ]
     },
     "metadata": {},
     "output_type": "display_data"
    }
   ],
   "source": [
    "sns.boxplot(x=df['resting_blood_pressure']);"
   ]
  },
  {
   "cell_type": "code",
   "execution_count": 43,
   "id": "e4737f4f-67e6-4963-9229-14f102d3eff4",
   "metadata": {},
   "outputs": [
    {
     "data": {
      "image/png": "[encoded data removed]",
      "text/plain": [
       "<Figure size 640x480 with 1 Axes>"
      ]
     },
     "metadata": {},
     "output_type": "display_data"
    }
   ],
   "source": [
    "sns.boxplot(x=df['max_heart_reate_achieved']);"
   ]
  },
  {
   "cell_type": "code",
   "execution_count": 34,
   "id": "29360ec2-3796-4e63-9664-211fcc0e517a",
   "metadata": {},
   "outputs": [
    {
     "data": {
      "text/plain": [
       "Text(0.5, 1.0, 'Total Number of Patients')"
      ]
     },
     "execution_count": 34,
     "metadata": {},
     "output_type": "execute_result"
    },
    {
     "data": {
      "image/png": "[encoded data removed]",
      "text/plain": [
       "<Figure size 1000x500 with 1 Axes>"
      ]
     },
     "metadata": {},
     "output_type": "display_data"
    }
   ],
   "source": [
    "# Data Visualization\n",
    "#Age Bracket\n",
    "\n",
    "def age_bracket(age):\n",
    "    if age <= 35:\n",
    "        return \"Youth(<=35))\"\n",
    "    elif age <= 55:\n",
    "        return \"Adult(<=55)\"\n",
    "    elif age <= 65:\n",
    "        return \"Old Adult(<=65)\"\n",
    "    else:\n",
    "        return \"Elderly(>65)\"\n",
    "\n",
    "df[\"age_bracket\"] = df['age'].apply(age_bracket)\n",
    "\n",
    "# investigating the age group of patientd\n",
    "plt.figure(figsize=(10,5))\n",
    "sns.countplot(x='age_bracket', data=df)\n",
    "plt.xlabel('Age_Group')\n",
    "plt.ylabel('Count pf age Group')\n",
    "plt.title('Total Number of Patients')"
   ]
  },
  {
   "cell_type": "code",
   "execution_count": 49,
   "id": "dae85d9a-fa96-4f57-b49d-a7ac5a8c5e84",
   "metadata": {},
   "outputs": [
    {
     "data": {
      "text/html": [
       "<div>\n",
       "<style scoped>\n",
       "    .dataframe tbody tr th:only-of-type {\n",
       "        vertical-align: middle;\n",
       "    }\n",
       "\n",
       "    .dataframe tbody tr th {\n",
       "        vertical-align: top;\n",
       "    }\n",
       "\n",
       "    .dataframe thead th {\n",
       "        text-align: right;\n",
       "    }\n",
       "</style>\n",
       "<table border=\"1\" class=\"dataframe\">\n",
       "  <thead>\n",
       "    <tr style=\"text-align: right;\">\n",
       "      <th></th>\n",
       "      <th>age</th>\n",
       "      <th>sex</th>\n",
       "      <th>chesta_pain_type</th>\n",
       "      <th>resting_blood_pressure</th>\n",
       "      <th>cholesterol</th>\n",
       "      <th>fasting_blood_sugar</th>\n",
       "      <th>rest_ecg</th>\n",
       "      <th>max_heart_reate_achieved</th>\n",
       "      <th>exercise_induced_angina</th>\n",
       "      <th>st_depression</th>\n",
       "      <th>st_slope</th>\n",
       "      <th>num_major_vessels</th>\n",
       "      <th>thalassemia</th>\n",
       "      <th>target</th>\n",
       "      <th>age_bracket</th>\n",
       "    </tr>\n",
       "  </thead>\n",
       "  <tbody>\n",
       "    <tr>\n",
       "      <th>0</th>\n",
       "      <td>63</td>\n",
       "      <td>1</td>\n",
       "      <td>3</td>\n",
       "      <td>145</td>\n",
       "      <td>233</td>\n",
       "      <td>1</td>\n",
       "      <td>0</td>\n",
       "      <td>150</td>\n",
       "      <td>0</td>\n",
       "      <td>2.3</td>\n",
       "      <td>0</td>\n",
       "      <td>0</td>\n",
       "      <td>1</td>\n",
       "      <td>1</td>\n",
       "      <td>Old Adult(&lt;=65)</td>\n",
       "    </tr>\n",
       "    <tr>\n",
       "      <th>1</th>\n",
       "      <td>37</td>\n",
       "      <td>1</td>\n",
       "      <td>2</td>\n",
       "      <td>130</td>\n",
       "      <td>250</td>\n",
       "      <td>0</td>\n",
       "      <td>1</td>\n",
       "      <td>187</td>\n",
       "      <td>0</td>\n",
       "      <td>3.5</td>\n",
       "      <td>0</td>\n",
       "      <td>0</td>\n",
       "      <td>2</td>\n",
       "      <td>1</td>\n",
       "      <td>Adult(&lt;=55)</td>\n",
       "    </tr>\n",
       "    <tr>\n",
       "      <th>2</th>\n",
       "      <td>41</td>\n",
       "      <td>0</td>\n",
       "      <td>1</td>\n",
       "      <td>130</td>\n",
       "      <td>204</td>\n",
       "      <td>0</td>\n",
       "      <td>0</td>\n",
       "      <td>172</td>\n",
       "      <td>0</td>\n",
       "      <td>1.4</td>\n",
       "      <td>2</td>\n",
       "      <td>0</td>\n",
       "      <td>2</td>\n",
       "      <td>1</td>\n",
       "      <td>Adult(&lt;=55)</td>\n",
       "    </tr>\n",
       "    <tr>\n",
       "      <th>3</th>\n",
       "      <td>56</td>\n",
       "      <td>1</td>\n",
       "      <td>1</td>\n",
       "      <td>120</td>\n",
       "      <td>236</td>\n",
       "      <td>0</td>\n",
       "      <td>1</td>\n",
       "      <td>178</td>\n",
       "      <td>0</td>\n",
       "      <td>0.8</td>\n",
       "      <td>2</td>\n",
       "      <td>0</td>\n",
       "      <td>2</td>\n",
       "      <td>1</td>\n",
       "      <td>Old Adult(&lt;=65)</td>\n",
       "    </tr>\n",
       "    <tr>\n",
       "      <th>4</th>\n",
       "      <td>57</td>\n",
       "      <td>0</td>\n",
       "      <td>0</td>\n",
       "      <td>120</td>\n",
       "      <td>354</td>\n",
       "      <td>0</td>\n",
       "      <td>1</td>\n",
       "      <td>163</td>\n",
       "      <td>1</td>\n",
       "      <td>0.6</td>\n",
       "      <td>2</td>\n",
       "      <td>0</td>\n",
       "      <td>2</td>\n",
       "      <td>1</td>\n",
       "      <td>Old Adult(&lt;=65)</td>\n",
       "    </tr>\n",
       "  </tbody>\n",
       "</table>\n",
       "</div>"
      ],
      "text/plain": [
       "   age  sex  chesta_pain_type  resting_blood_pressure  cholesterol  \\\n",
       "0   63    1                 3                     145          233   \n",
       "1   37    1                 2                     130          250   \n",
       "2   41    0                 1                     130          204   \n",
       "3   56    1                 1                     120          236   \n",
       "4   57    0                 0                     120          354   \n",
       "\n",
       "   fasting_blood_sugar  rest_ecg  max_heart_reate_achieved  \\\n",
       "0                    1         0                       150   \n",
       "1                    0         1                       187   \n",
       "2                    0         0                       172   \n",
       "3                    0         1                       178   \n",
       "4                    0         1                       163   \n",
       "\n",
       "   exercise_induced_angina  st_depression  st_slope  num_major_vessels  \\\n",
       "0                        0            2.3         0                  0   \n",
       "1                        0            3.5         0                  0   \n",
       "2                        0            1.4         2                  0   \n",
       "3                        0            0.8         2                  0   \n",
       "4                        1            0.6         2                  0   \n",
       "\n",
       "   thalassemia  target      age_bracket  \n",
       "0            1       1  Old Adult(<=65)  \n",
       "1            2       1      Adult(<=55)  \n",
       "2            2       1      Adult(<=55)  \n",
       "3            2       1  Old Adult(<=65)  \n",
       "4            2       1  Old Adult(<=65)  "
      ]
     },
     "execution_count": 49,
     "metadata": {},
     "output_type": "execute_result"
    }
   ],
   "source": [
    "df.head()"
   ]
  },
  {
   "cell_type": "code",
   "execution_count": 42,
   "id": "e22a7308-fac4-4e1f-803e-0799bc268269",
   "metadata": {},
   "outputs": [
    {
     "data": {
      "text/plain": [
       "Text(0.5, 1.0, 'Total Number of Patients')"
      ]
     },
     "execution_count": 42,
     "metadata": {},
     "output_type": "execute_result"
    },
    {
     "data": {
      "image/png": "[encoded data removed]",
      "text/plain": [
       "<Figure size 1000x500 with 1 Axes>"
      ]
     },
     "metadata": {},
     "output_type": "display_data"
    }
   ],
   "source": [
    "# Data Visualization\n",
    "#Sex\n",
    "\n",
    "def gender(sex):\n",
    "    if sex == 1:\n",
    "        return \"Male\"\n",
    "    else:\n",
    "        return \"Female\"\n",
    "\n",
    "df['gender'] = df[\"sex\"].apply(gender)\n",
    "\n",
    "# Investigating the gender of patients\n",
    "\n",
    "plt.figure(figsize=(10,5))\n",
    "sns.countplot(x='gender', data=df)\n",
    "plt.xlabel('Gender')\n",
    "plt.ylabel('Count of patient Gender')\n",
    "plt.title('Total Number of Patients')"
   ]
  },
  {
   "cell_type": "code",
   "execution_count": 53,
   "id": "93c6e095-a12e-49ee-8fa3-4b2be910ce82",
   "metadata": {},
   "outputs": [
    {
     "data": {
      "text/html": [
       "<div>\n",
       "<style scoped>\n",
       "    .dataframe tbody tr th:only-of-type {\n",
       "        vertical-align: middle;\n",
       "    }\n",
       "\n",
       "    .dataframe tbody tr th {\n",
       "        vertical-align: top;\n",
       "    }\n",
       "\n",
       "    .dataframe thead th {\n",
       "        text-align: right;\n",
       "    }\n",
       "</style>\n",
       "<table border=\"1\" class=\"dataframe\">\n",
       "  <thead>\n",
       "    <tr style=\"text-align: right;\">\n",
       "      <th></th>\n",
       "      <th>age</th>\n",
       "      <th>sex</th>\n",
       "      <th>chesta_pain_type</th>\n",
       "      <th>resting_blood_pressure</th>\n",
       "      <th>cholesterol</th>\n",
       "      <th>fasting_blood_sugar</th>\n",
       "      <th>rest_ecg</th>\n",
       "      <th>max_heart_reate_achieved</th>\n",
       "      <th>exercise_induced_angina</th>\n",
       "      <th>st_depression</th>\n",
       "      <th>st_slope</th>\n",
       "      <th>num_major_vessels</th>\n",
       "      <th>thalassemia</th>\n",
       "      <th>target</th>\n",
       "      <th>age_bracket</th>\n",
       "      <th>gender</th>\n",
       "    </tr>\n",
       "  </thead>\n",
       "  <tbody>\n",
       "    <tr>\n",
       "      <th>0</th>\n",
       "      <td>63</td>\n",
       "      <td>1</td>\n",
       "      <td>3</td>\n",
       "      <td>145</td>\n",
       "      <td>233</td>\n",
       "      <td>1</td>\n",
       "      <td>0</td>\n",
       "      <td>150</td>\n",
       "      <td>0</td>\n",
       "      <td>2.3</td>\n",
       "      <td>0</td>\n",
       "      <td>0</td>\n",
       "      <td>1</td>\n",
       "      <td>1</td>\n",
       "      <td>Old Adult(&lt;=65)</td>\n",
       "      <td>Male</td>\n",
       "    </tr>\n",
       "    <tr>\n",
       "      <th>1</th>\n",
       "      <td>37</td>\n",
       "      <td>1</td>\n",
       "      <td>2</td>\n",
       "      <td>130</td>\n",
       "      <td>250</td>\n",
       "      <td>0</td>\n",
       "      <td>1</td>\n",
       "      <td>187</td>\n",
       "      <td>0</td>\n",
       "      <td>3.5</td>\n",
       "      <td>0</td>\n",
       "      <td>0</td>\n",
       "      <td>2</td>\n",
       "      <td>1</td>\n",
       "      <td>Adult(&lt;=55)</td>\n",
       "      <td>Male</td>\n",
       "    </tr>\n",
       "    <tr>\n",
       "      <th>2</th>\n",
       "      <td>41</td>\n",
       "      <td>0</td>\n",
       "      <td>1</td>\n",
       "      <td>130</td>\n",
       "      <td>204</td>\n",
       "      <td>0</td>\n",
       "      <td>0</td>\n",
       "      <td>172</td>\n",
       "      <td>0</td>\n",
       "      <td>1.4</td>\n",
       "      <td>2</td>\n",
       "      <td>0</td>\n",
       "      <td>2</td>\n",
       "      <td>1</td>\n",
       "      <td>Adult(&lt;=55)</td>\n",
       "      <td>Female</td>\n",
       "    </tr>\n",
       "    <tr>\n",
       "      <th>3</th>\n",
       "      <td>56</td>\n",
       "      <td>1</td>\n",
       "      <td>1</td>\n",
       "      <td>120</td>\n",
       "      <td>236</td>\n",
       "      <td>0</td>\n",
       "      <td>1</td>\n",
       "      <td>178</td>\n",
       "      <td>0</td>\n",
       "      <td>0.8</td>\n",
       "      <td>2</td>\n",
       "      <td>0</td>\n",
       "      <td>2</td>\n",
       "      <td>1</td>\n",
       "      <td>Old Adult(&lt;=65)</td>\n",
       "      <td>Male</td>\n",
       "    </tr>\n",
       "    <tr>\n",
       "      <th>4</th>\n",
       "      <td>57</td>\n",
       "      <td>0</td>\n",
       "      <td>0</td>\n",
       "      <td>120</td>\n",
       "      <td>354</td>\n",
       "      <td>0</td>\n",
       "      <td>1</td>\n",
       "      <td>163</td>\n",
       "      <td>1</td>\n",
       "      <td>0.6</td>\n",
       "      <td>2</td>\n",
       "      <td>0</td>\n",
       "      <td>2</td>\n",
       "      <td>1</td>\n",
       "      <td>Old Adult(&lt;=65)</td>\n",
       "      <td>Female</td>\n",
       "    </tr>\n",
       "  </tbody>\n",
       "</table>\n",
       "</div>"
      ],
      "text/plain": [
       "   age  sex  chesta_pain_type  resting_blood_pressure  cholesterol  \\\n",
       "0   63    1                 3                     145          233   \n",
       "1   37    1                 2                     130          250   \n",
       "2   41    0                 1                     130          204   \n",
       "3   56    1                 1                     120          236   \n",
       "4   57    0                 0                     120          354   \n",
       "\n",
       "   fasting_blood_sugar  rest_ecg  max_heart_reate_achieved  \\\n",
       "0                    1         0                       150   \n",
       "1                    0         1                       187   \n",
       "2                    0         0                       172   \n",
       "3                    0         1                       178   \n",
       "4                    0         1                       163   \n",
       "\n",
       "   exercise_induced_angina  st_depression  st_slope  num_major_vessels  \\\n",
       "0                        0            2.3         0                  0   \n",
       "1                        0            3.5         0                  0   \n",
       "2                        0            1.4         2                  0   \n",
       "3                        0            0.8         2                  0   \n",
       "4                        1            0.6         2                  0   \n",
       "\n",
       "   thalassemia  target      age_bracket  gender  \n",
       "0            1       1  Old Adult(<=65)    Male  \n",
       "1            2       1      Adult(<=55)    Male  \n",
       "2            2       1      Adult(<=55)  Female  \n",
       "3            2       1  Old Adult(<=65)    Male  \n",
       "4            2       1  Old Adult(<=65)  Female  "
      ]
     },
     "execution_count": 53,
     "metadata": {},
     "output_type": "execute_result"
    }
   ],
   "source": [
    "df.head()"
   ]
  },
  {
   "cell_type": "code",
   "execution_count": 53,
   "id": "e85fb94e-5c08-405f-8eb4-77137e848153",
   "metadata": {},
   "outputs": [
    {
     "data": {
      "text/plain": [
       "Text(0.5, 1.0, 'Total Number of Patients')"
      ]
     },
     "execution_count": 53,
     "metadata": {},
     "output_type": "execute_result"
    },
    {
     "data": {
      "image/png": "[encoded data removed]",
      "text/plain": [
       "<Figure size 1000x500 with 1 Axes>"
      ]
     },
     "metadata": {},
     "output_type": "display_data"
    }
   ],
   "source": [
    "# Data Visualization\n",
    "# Chest pain type (1: typical angina; 2: atypical angina; 3: non-agina pain; 4: asymptomatic)\n",
    "def chest_pain(cp):\n",
    "    if cp == 1:\n",
    "        return \"typical angina\"\n",
    "    elif cp == 2:\n",
    "        return \"atypical angina\"\n",
    "    elif cp == 3:\n",
    "        return \"non-agina pain\"\n",
    "    else:\n",
    "        return \"asymptomatic\"\n",
    "\n",
    "df[\"cp_cat\"] = df['chesta_pain_type'].apply(chest_pain)\n",
    "\n",
    "#Investigating the chest pain type of Patients\n",
    "plt.figure(figsize=(10, 5))\n",
    "sns.countplot(x=\"cp_cat\", data=df)\n",
    "plt.xlabel(\"Types of chest pain\")\n",
    "plt.ylabel(\"Count of patients Gender\")\n",
    "plt.title(\"Total Number of Patients\")"
   ]
  },
  {
   "cell_type": "code",
   "execution_count": 23,
   "id": "81214409-55da-4489-bd4d-c3fb09dd6425",
   "metadata": {},
   "outputs": [
    {
     "data": {
      "text/plain": [
       "Index(['age', 'sex', 'chesta_pain_type', 'resting_blood_pressure',\n",
       "       'cholesterol', 'fasting_blood_sugar', 'rest_ecg',\n",
       "       'max_heart_reate_achieved', 'exercise_induced_angina', 'st_depression',\n",
       "       'st_slope', 'num_major_vessels', 'thalassemia', 'target', 'cp_cap',\n",
       "       'cp_cat'],\n",
       "      dtype='object')"
      ]
     },
     "execution_count": 23,
     "metadata": {},
     "output_type": "execute_result"
    }
   ],
   "source": [
    "df.columns"
   ]
  },
  {
   "cell_type": "code",
   "execution_count": 55,
   "id": "255425ec-3da3-4f89-b853-4953308d5292",
   "metadata": {},
   "outputs": [
    {
     "name": "stdout",
     "output_type": "stream",
     "text": [
      "label\n",
      "Yes    165\n",
      "No     138\n",
      "Name: count, dtype: int64\n"
     ]
    },
    {
     "data": {
      "text/plain": [
       "Text(0.5, 1.0, 'Total number of Patients')"
      ]
     },
     "execution_count": 55,
     "metadata": {},
     "output_type": "execute_result"
    },
    {
     "data": {
      "image/png": "[encoded data removed]",
      "text/plain": [
       "<Figure size 1000x500 with 1 Axes>"
      ]
     },
     "metadata": {},
     "output_type": "display_data"
    }
   ],
   "source": [
    "# Data Visualization \n",
    "# target - Have disease or not (1=yes, 0=no)\n",
    "def label(tg):\n",
    "    if tg == 1:\n",
    "        return \"Yes\"\n",
    "    else:\n",
    "        return \"No\"\n",
    "\n",
    "df['label'] = df['target'].apply(label)\n",
    "\n",
    "# Total patient in each category\n",
    "print(df['label'].value_counts())\n",
    "\n",
    "# Investigating the gender fof patients\n",
    "plt.figure(figsize=(10,5))\n",
    "sns.countplot(x=\"label\", data=df)\n",
    "plt.xlabel(\"Taget\")\n",
    "plt.ylabel(\"Count of patient Gender\")\n",
    "plt.title(\"Total number of Patients\")"
   ]
  },
  {
   "cell_type": "markdown",
   "id": "52597561-da3e-47fb-9845-38bcd154c182",
   "metadata": {},
   "source": [
    "### Bivariate Analysis"
   ]
  },
  {
   "cell_type": "code",
   "execution_count": 36,
   "id": "388bc765-6982-43df-b8c3-f01022ebab9b",
   "metadata": {},
   "outputs": [
    {
     "data": {
      "text/plain": [
       "Text(0.5, 1.0, 'Total number of Patients')"
      ]
     },
     "execution_count": 36,
     "metadata": {},
     "output_type": "execute_result"
    },
    {
     "data": {
      "image/png": "[encoded data removed]",
      "text/plain": [
       "<Figure size 1000x500 with 1 Axes>"
      ]
     },
     "metadata": {},
     "output_type": "display_data"
    }
   ],
   "source": [
    "# Investigating the age group of patients by the target feature\n",
    "plt.figure(figsize=(10,5))\n",
    "sns.countplot(x=\"age_bracket\", data=df, hue=\"label\")\n",
    "plt.xlabel(\"Age Group\")\n",
    "plt.ylabel(\"Count of Age Group\")\n",
    "plt.title(\"Total number of Patients\")"
   ]
  },
  {
   "cell_type": "code",
   "execution_count": 38,
   "id": "43ec072b-7612-4445-832f-7e8898d639ec",
   "metadata": {},
   "outputs": [
    {
     "data": {
      "text/plain": [
       "Index(['age', 'sex', 'chesta_pain_type', 'resting_blood_pressure',\n",
       "       'cholesterol', 'fasting_blood_sugar', 'rest_ecg',\n",
       "       'max_heart_reate_achieved', 'exercise_induced_angina', 'st_depression',\n",
       "       'st_slope', 'num_major_vessels', 'thalassemia', 'target', 'cp_cap',\n",
       "       'cp_cat', 'label', 'age_bracket'],\n",
       "      dtype='object')"
      ]
     },
     "execution_count": 38,
     "metadata": {},
     "output_type": "execute_result"
    }
   ],
   "source": [
    "df.columns"
   ]
  },
  {
   "cell_type": "code",
   "execution_count": 44,
   "id": "334a478d-9c96-4169-bcc3-5f091df8d8f4",
   "metadata": {},
   "outputs": [
    {
     "data": {
      "text/plain": [
       "Text(0.5, 1.0, 'Total number of Patients')"
      ]
     },
     "execution_count": 44,
     "metadata": {},
     "output_type": "execute_result"
    },
    {
     "data": {
      "image/png": "[encoded data removed]",
      "text/plain": [
       "<Figure size 1000x500 with 1 Axes>"
      ]
     },
     "metadata": {},
     "output_type": "display_data"
    }
   ],
   "source": [
    "# Investigating the age group of patients by the target feature\n",
    "plt.figure(figsize=(10,5))\n",
    "sns.countplot(x=\"gender\", data=df, hue=\"label\")\n",
    "plt.xlabel(\"Age Group\")\n",
    "plt.ylabel(\"Count of Age Group\")\n",
    "plt.title(\"Total number of Patients\")"
   ]
  },
  {
   "cell_type": "code",
   "execution_count": 46,
   "id": "7b3b13c4-8895-4bb8-bb1d-63e2eeb384ee",
   "metadata": {},
   "outputs": [
    {
     "data": {
      "text/plain": [
       "Text(0.5, 1.0, 'Total number of Patients')"
      ]
     },
     "execution_count": 46,
     "metadata": {},
     "output_type": "execute_result"
    },
    {
     "data": {
      "image/png": "[encoded data removed]",
      "text/plain": [
       "<Figure size 1000x500 with 1 Axes>"
      ]
     },
     "metadata": {},
     "output_type": "display_data"
    }
   ],
   "source": [
    "# Investigating the age group of patients by the target feature\n",
    "plt.figure(figsize=(10,5))\n",
    "sns.countplot(x=\"cp_cat\", data=df, hue=\"label\")\n",
    "plt.xlabel(\"Type of chest pain\")\n",
    "plt.ylabel(\"Count of patient Gender\")\n",
    "plt.title(\"Total number of Patients\")"
   ]
  },
  {
   "cell_type": "markdown",
   "id": "d81dac76-9cef-49f7-8abd-041df9241c93",
   "metadata": {},
   "source": [
    "### Multivariate analysis"
   ]
  },
  {
   "cell_type": "code",
   "execution_count": 59,
   "id": "0e909be0-d3d6-4dec-bf11-3faaa5e6960a",
   "metadata": {},
   "outputs": [
    {
     "ename": "ValueError",
     "evalue": "could not convert string to float: 'non-agina pain'",
     "output_type": "error",
     "traceback": [
      "\u001b[1;31m---------------------------------------------------------------------------\u001b[0m",
      "\u001b[1;31mValueError\u001b[0m                                Traceback (most recent call last)",
      "Cell \u001b[1;32mIn[59], line 4\u001b[0m\n\u001b[0;32m      1\u001b[0m \u001b[38;5;66;03m# Correlation between \u001b[39;00m\n\u001b[0;32m      2\u001b[0m plt\u001b[38;5;241m.\u001b[39mfigure(figsize \u001b[38;5;241m=\u001b[39m (\u001b[38;5;241m10\u001b[39m,\u001b[38;5;241m10\u001b[39m))\n\u001b[1;32m----> 4\u001b[0m hm \u001b[38;5;241m=\u001b[39m sns\u001b[38;5;241m.\u001b[39mheatmap(df\u001b[38;5;241m.\u001b[39mcorr(), cbar\u001b[38;5;241m=\u001b[39m\u001b[38;5;28;01mTrue\u001b[39;00m, annot\u001b[38;5;241m=\u001b[39m\u001b[38;5;28;01mTrue\u001b[39;00m, square\u001b[38;5;241m=\u001b[39m\u001b[38;5;28;01mTrue\u001b[39;00m, fmt\u001b[38;5;241m=\u001b[39m\u001b[38;5;124m'\u001b[39m\u001b[38;5;124m.2f\u001b[39m\u001b[38;5;124m'\u001b[39m, annot_kws\u001b[38;5;241m=\u001b[39m{\u001b[38;5;124m'\u001b[39m\u001b[38;5;124msize: 10\u001b[39m\u001b[38;5;124m'\u001b[39m})\n",
      "File \u001b[1;32m~\\anaconda3\\Lib\\site-packages\\pandas\\core\\frame.py:11049\u001b[0m, in \u001b[0;36mDataFrame.corr\u001b[1;34m(self, method, min_periods, numeric_only)\u001b[0m\n\u001b[0;32m  11047\u001b[0m cols \u001b[38;5;241m=\u001b[39m data\u001b[38;5;241m.\u001b[39mcolumns\n\u001b[0;32m  11048\u001b[0m idx \u001b[38;5;241m=\u001b[39m cols\u001b[38;5;241m.\u001b[39mcopy()\n\u001b[1;32m> 11049\u001b[0m mat \u001b[38;5;241m=\u001b[39m data\u001b[38;5;241m.\u001b[39mto_numpy(dtype\u001b[38;5;241m=\u001b[39m\u001b[38;5;28mfloat\u001b[39m, na_value\u001b[38;5;241m=\u001b[39mnp\u001b[38;5;241m.\u001b[39mnan, copy\u001b[38;5;241m=\u001b[39m\u001b[38;5;28;01mFalse\u001b[39;00m)\n\u001b[0;32m  11051\u001b[0m \u001b[38;5;28;01mif\u001b[39;00m method \u001b[38;5;241m==\u001b[39m \u001b[38;5;124m\"\u001b[39m\u001b[38;5;124mpearson\u001b[39m\u001b[38;5;124m\"\u001b[39m:\n\u001b[0;32m  11052\u001b[0m     correl \u001b[38;5;241m=\u001b[39m libalgos\u001b[38;5;241m.\u001b[39mnancorr(mat, minp\u001b[38;5;241m=\u001b[39mmin_periods)\n",
      "File \u001b[1;32m~\\anaconda3\\Lib\\site-packages\\pandas\\core\\frame.py:1993\u001b[0m, in \u001b[0;36mDataFrame.to_numpy\u001b[1;34m(self, dtype, copy, na_value)\u001b[0m\n\u001b[0;32m   1991\u001b[0m \u001b[38;5;28;01mif\u001b[39;00m dtype \u001b[38;5;129;01mis\u001b[39;00m \u001b[38;5;129;01mnot\u001b[39;00m \u001b[38;5;28;01mNone\u001b[39;00m:\n\u001b[0;32m   1992\u001b[0m     dtype \u001b[38;5;241m=\u001b[39m np\u001b[38;5;241m.\u001b[39mdtype(dtype)\n\u001b[1;32m-> 1993\u001b[0m result \u001b[38;5;241m=\u001b[39m \u001b[38;5;28mself\u001b[39m\u001b[38;5;241m.\u001b[39m_mgr\u001b[38;5;241m.\u001b[39mas_array(dtype\u001b[38;5;241m=\u001b[39mdtype, copy\u001b[38;5;241m=\u001b[39mcopy, na_value\u001b[38;5;241m=\u001b[39mna_value)\n\u001b[0;32m   1994\u001b[0m \u001b[38;5;28;01mif\u001b[39;00m result\u001b[38;5;241m.\u001b[39mdtype \u001b[38;5;129;01mis\u001b[39;00m \u001b[38;5;129;01mnot\u001b[39;00m dtype:\n\u001b[0;32m   1995\u001b[0m     result \u001b[38;5;241m=\u001b[39m np\u001b[38;5;241m.\u001b[39masarray(result, dtype\u001b[38;5;241m=\u001b[39mdtype)\n",
      "File \u001b[1;32m~\\anaconda3\\Lib\\site-packages\\pandas\\core\\internals\\managers.py:1694\u001b[0m, in \u001b[0;36mBlockManager.as_array\u001b[1;34m(self, dtype, copy, na_value)\u001b[0m\n\u001b[0;32m   1692\u001b[0m         arr\u001b[38;5;241m.\u001b[39mflags\u001b[38;5;241m.\u001b[39mwriteable \u001b[38;5;241m=\u001b[39m \u001b[38;5;28;01mFalse\u001b[39;00m\n\u001b[0;32m   1693\u001b[0m \u001b[38;5;28;01melse\u001b[39;00m:\n\u001b[1;32m-> 1694\u001b[0m     arr \u001b[38;5;241m=\u001b[39m \u001b[38;5;28mself\u001b[39m\u001b[38;5;241m.\u001b[39m_interleave(dtype\u001b[38;5;241m=\u001b[39mdtype, na_value\u001b[38;5;241m=\u001b[39mna_value)\n\u001b[0;32m   1695\u001b[0m     \u001b[38;5;66;03m# The underlying data was copied within _interleave, so no need\u001b[39;00m\n\u001b[0;32m   1696\u001b[0m     \u001b[38;5;66;03m# to further copy if copy=True or setting na_value\u001b[39;00m\n\u001b[0;32m   1698\u001b[0m \u001b[38;5;28;01mif\u001b[39;00m na_value \u001b[38;5;129;01mis\u001b[39;00m lib\u001b[38;5;241m.\u001b[39mno_default:\n",
      "File \u001b[1;32m~\\anaconda3\\Lib\\site-packages\\pandas\\core\\internals\\managers.py:1753\u001b[0m, in \u001b[0;36mBlockManager._interleave\u001b[1;34m(self, dtype, na_value)\u001b[0m\n\u001b[0;32m   1751\u001b[0m     \u001b[38;5;28;01melse\u001b[39;00m:\n\u001b[0;32m   1752\u001b[0m         arr \u001b[38;5;241m=\u001b[39m blk\u001b[38;5;241m.\u001b[39mget_values(dtype)\n\u001b[1;32m-> 1753\u001b[0m     result[rl\u001b[38;5;241m.\u001b[39mindexer] \u001b[38;5;241m=\u001b[39m arr\n\u001b[0;32m   1754\u001b[0m     itemmask[rl\u001b[38;5;241m.\u001b[39mindexer] \u001b[38;5;241m=\u001b[39m \u001b[38;5;241m1\u001b[39m\n\u001b[0;32m   1756\u001b[0m \u001b[38;5;28;01mif\u001b[39;00m \u001b[38;5;129;01mnot\u001b[39;00m itemmask\u001b[38;5;241m.\u001b[39mall():\n",
      "\u001b[1;31mValueError\u001b[0m: could not convert string to float: 'non-agina pain'"
     ]
    },
    {
     "data": {
      "text/plain": [
       "<Figure size 1000x1000 with 0 Axes>"
      ]
     },
     "metadata": {},
     "output_type": "display_data"
    }
   ],
   "source": [
    "# Correlation between \n",
    "plt.figure(figsize = (10,10))\n",
    "\n",
    "hm = sns.heatmap(df.corr(), cbar=True, annot=True, square=True, fmt='.2f', annot_kws={'size: 10'})"
   ]
  },
  {
   "cell_type": "markdown",
   "id": "9bd78692-b783-4a56-a259-ea14631f8a3b",
   "metadata": {},
   "source": [
    "#### Feature Engineering and Data Preprocessing"
   ]
  },
  {
   "cell_type": "code",
   "execution_count": 71,
   "id": "b61e1228-ce02-4eee-b8b8-33f7b94c3e01",
   "metadata": {},
   "outputs": [
    {
     "data": {
      "text/html": [
       "<div>\n",
       "<style scoped>\n",
       "    .dataframe tbody tr th:only-of-type {\n",
       "        vertical-align: middle;\n",
       "    }\n",
       "\n",
       "    .dataframe tbody tr th {\n",
       "        vertical-align: top;\n",
       "    }\n",
       "\n",
       "    .dataframe thead th {\n",
       "        text-align: right;\n",
       "    }\n",
       "</style>\n",
       "<table border=\"1\" class=\"dataframe\">\n",
       "  <thead>\n",
       "    <tr style=\"text-align: right;\">\n",
       "      <th></th>\n",
       "      <th>age</th>\n",
       "      <th>sex</th>\n",
       "      <th>chesta_pain_type</th>\n",
       "      <th>resting_blood_pressure</th>\n",
       "      <th>cholesterol</th>\n",
       "      <th>fasting_blood_sugar</th>\n",
       "      <th>rest_ecg</th>\n",
       "      <th>max_heart_reate_achieved</th>\n",
       "      <th>exercise_induced_angina</th>\n",
       "      <th>st_depression</th>\n",
       "      <th>st_slope</th>\n",
       "      <th>num_major_vessels</th>\n",
       "      <th>thalassemia</th>\n",
       "      <th>target</th>\n",
       "      <th>cp_cap</th>\n",
       "      <th>cp_cat</th>\n",
       "      <th>label</th>\n",
       "      <th>age_bracket</th>\n",
       "      <th>gender</th>\n",
       "    </tr>\n",
       "  </thead>\n",
       "  <tbody>\n",
       "    <tr>\n",
       "      <th>0</th>\n",
       "      <td>63</td>\n",
       "      <td>1</td>\n",
       "      <td>3</td>\n",
       "      <td>145</td>\n",
       "      <td>233</td>\n",
       "      <td>1</td>\n",
       "      <td>0</td>\n",
       "      <td>150</td>\n",
       "      <td>0</td>\n",
       "      <td>2.3</td>\n",
       "      <td>0</td>\n",
       "      <td>0</td>\n",
       "      <td>1</td>\n",
       "      <td>1</td>\n",
       "      <td>non-agina pain</td>\n",
       "      <td>non-agina pain</td>\n",
       "      <td>Yes</td>\n",
       "      <td>Old Adult(&lt;=65)</td>\n",
       "      <td>Male</td>\n",
       "    </tr>\n",
       "    <tr>\n",
       "      <th>1</th>\n",
       "      <td>37</td>\n",
       "      <td>1</td>\n",
       "      <td>2</td>\n",
       "      <td>130</td>\n",
       "      <td>250</td>\n",
       "      <td>0</td>\n",
       "      <td>1</td>\n",
       "      <td>187</td>\n",
       "      <td>0</td>\n",
       "      <td>3.5</td>\n",
       "      <td>0</td>\n",
       "      <td>0</td>\n",
       "      <td>2</td>\n",
       "      <td>1</td>\n",
       "      <td>atypical angina</td>\n",
       "      <td>atypical angina</td>\n",
       "      <td>Yes</td>\n",
       "      <td>Adult(&lt;=55)</td>\n",
       "      <td>Male</td>\n",
       "    </tr>\n",
       "    <tr>\n",
       "      <th>2</th>\n",
       "      <td>41</td>\n",
       "      <td>0</td>\n",
       "      <td>1</td>\n",
       "      <td>130</td>\n",
       "      <td>204</td>\n",
       "      <td>0</td>\n",
       "      <td>0</td>\n",
       "      <td>172</td>\n",
       "      <td>0</td>\n",
       "      <td>1.4</td>\n",
       "      <td>2</td>\n",
       "      <td>0</td>\n",
       "      <td>2</td>\n",
       "      <td>1</td>\n",
       "      <td>typical angina</td>\n",
       "      <td>typical angina</td>\n",
       "      <td>Yes</td>\n",
       "      <td>Adult(&lt;=55)</td>\n",
       "      <td>Female</td>\n",
       "    </tr>\n",
       "    <tr>\n",
       "      <th>3</th>\n",
       "      <td>56</td>\n",
       "      <td>1</td>\n",
       "      <td>1</td>\n",
       "      <td>120</td>\n",
       "      <td>236</td>\n",
       "      <td>0</td>\n",
       "      <td>1</td>\n",
       "      <td>178</td>\n",
       "      <td>0</td>\n",
       "      <td>0.8</td>\n",
       "      <td>2</td>\n",
       "      <td>0</td>\n",
       "      <td>2</td>\n",
       "      <td>1</td>\n",
       "      <td>typical angina</td>\n",
       "      <td>typical angina</td>\n",
       "      <td>Yes</td>\n",
       "      <td>Old Adult(&lt;=65)</td>\n",
       "      <td>Male</td>\n",
       "    </tr>\n",
       "    <tr>\n",
       "      <th>4</th>\n",
       "      <td>57</td>\n",
       "      <td>0</td>\n",
       "      <td>0</td>\n",
       "      <td>120</td>\n",
       "      <td>354</td>\n",
       "      <td>0</td>\n",
       "      <td>1</td>\n",
       "      <td>163</td>\n",
       "      <td>1</td>\n",
       "      <td>0.6</td>\n",
       "      <td>2</td>\n",
       "      <td>0</td>\n",
       "      <td>2</td>\n",
       "      <td>1</td>\n",
       "      <td>asymptomatic</td>\n",
       "      <td>asymptomatic</td>\n",
       "      <td>Yes</td>\n",
       "      <td>Old Adult(&lt;=65)</td>\n",
       "      <td>Female</td>\n",
       "    </tr>\n",
       "  </tbody>\n",
       "</table>\n",
       "</div>"
      ],
      "text/plain": [
       "   age  sex  chesta_pain_type  resting_blood_pressure  cholesterol  \\\n",
       "0   63    1                 3                     145          233   \n",
       "1   37    1                 2                     130          250   \n",
       "2   41    0                 1                     130          204   \n",
       "3   56    1                 1                     120          236   \n",
       "4   57    0                 0                     120          354   \n",
       "\n",
       "   fasting_blood_sugar  rest_ecg  max_heart_reate_achieved  \\\n",
       "0                    1         0                       150   \n",
       "1                    0         1                       187   \n",
       "2                    0         0                       172   \n",
       "3                    0         1                       178   \n",
       "4                    0         1                       163   \n",
       "\n",
       "   exercise_induced_angina  st_depression  st_slope  num_major_vessels  \\\n",
       "0                        0            2.3         0                  0   \n",
       "1                        0            3.5         0                  0   \n",
       "2                        0            1.4         2                  0   \n",
       "3                        0            0.8         2                  0   \n",
       "4                        1            0.6         2                  0   \n",
       "\n",
       "   thalassemia  target           cp_cap           cp_cat label  \\\n",
       "0            1       1   non-agina pain   non-agina pain   Yes   \n",
       "1            2       1  atypical angina  atypical angina   Yes   \n",
       "2            2       1   typical angina   typical angina   Yes   \n",
       "3            2       1   typical angina   typical angina   Yes   \n",
       "4            2       1     asymptomatic     asymptomatic   Yes   \n",
       "\n",
       "       age_bracket  gender  \n",
       "0  Old Adult(<=65)    Male  \n",
       "1      Adult(<=55)    Male  \n",
       "2      Adult(<=55)  Female  \n",
       "3  Old Adult(<=65)    Male  \n",
       "4  Old Adult(<=65)  Female  "
      ]
     },
     "execution_count": 71,
     "metadata": {},
     "output_type": "execute_result"
    }
   ],
   "source": [
    "df.head()"
   ]
  },
  {
   "cell_type": "code",
   "execution_count": null,
   "id": "fc55be37-326f-4ef9-bbc9-61ef576c828c",
   "metadata": {},
   "outputs": [],
   "source": []
  },
  {
   "cell_type": "code",
   "execution_count": 12,
   "id": "354a358d-0482-49b5-8937-9f4bbcfe35d9",
   "metadata": {},
   "outputs": [],
   "source": [
    "#create a copy of the data (excluding target/label and other columns\n",
    "df3 = df[['age', 'sex', 'chesta_pain_type', 'resting_blood_pressure', 'cholesterol', 'fasting_blood_sugar', 'rest_ecg', 'max_heart_reate_achieved', 'exercise_induced_angina', 'st_depression', 'st_slope', 'num_major_vessels', 'thalassemia']]\n",
    "label = df[['target']]"
   ]
  },
  {
   "cell_type": "code",
   "execution_count": 14,
   "id": "8f405d89-e1da-47e4-8c75-a27d18fcfad4",
   "metadata": {},
   "outputs": [
    {
     "data": {
      "text/html": [
       "<div>\n",
       "<style scoped>\n",
       "    .dataframe tbody tr th:only-of-type {\n",
       "        vertical-align: middle;\n",
       "    }\n",
       "\n",
       "    .dataframe tbody tr th {\n",
       "        vertical-align: top;\n",
       "    }\n",
       "\n",
       "    .dataframe thead th {\n",
       "        text-align: right;\n",
       "    }\n",
       "</style>\n",
       "<table border=\"1\" class=\"dataframe\">\n",
       "  <thead>\n",
       "    <tr style=\"text-align: right;\">\n",
       "      <th></th>\n",
       "      <th>age</th>\n",
       "      <th>sex</th>\n",
       "      <th>chesta_pain_type</th>\n",
       "      <th>resting_blood_pressure</th>\n",
       "      <th>cholesterol</th>\n",
       "      <th>fasting_blood_sugar</th>\n",
       "      <th>rest_ecg</th>\n",
       "      <th>max_heart_reate_achieved</th>\n",
       "      <th>exercise_induced_angina</th>\n",
       "      <th>st_depression</th>\n",
       "      <th>st_slope</th>\n",
       "      <th>num_major_vessels</th>\n",
       "      <th>thalassemia</th>\n",
       "    </tr>\n",
       "  </thead>\n",
       "  <tbody>\n",
       "    <tr>\n",
       "      <th>0</th>\n",
       "      <td>63</td>\n",
       "      <td>1</td>\n",
       "      <td>3</td>\n",
       "      <td>145</td>\n",
       "      <td>233</td>\n",
       "      <td>1</td>\n",
       "      <td>0</td>\n",
       "      <td>150</td>\n",
       "      <td>0</td>\n",
       "      <td>2.3</td>\n",
       "      <td>0</td>\n",
       "      <td>0</td>\n",
       "      <td>1</td>\n",
       "    </tr>\n",
       "    <tr>\n",
       "      <th>1</th>\n",
       "      <td>37</td>\n",
       "      <td>1</td>\n",
       "      <td>2</td>\n",
       "      <td>130</td>\n",
       "      <td>250</td>\n",
       "      <td>0</td>\n",
       "      <td>1</td>\n",
       "      <td>187</td>\n",
       "      <td>0</td>\n",
       "      <td>3.5</td>\n",
       "      <td>0</td>\n",
       "      <td>0</td>\n",
       "      <td>2</td>\n",
       "    </tr>\n",
       "    <tr>\n",
       "      <th>2</th>\n",
       "      <td>41</td>\n",
       "      <td>0</td>\n",
       "      <td>1</td>\n",
       "      <td>130</td>\n",
       "      <td>204</td>\n",
       "      <td>0</td>\n",
       "      <td>0</td>\n",
       "      <td>172</td>\n",
       "      <td>0</td>\n",
       "      <td>1.4</td>\n",
       "      <td>2</td>\n",
       "      <td>0</td>\n",
       "      <td>2</td>\n",
       "    </tr>\n",
       "    <tr>\n",
       "      <th>3</th>\n",
       "      <td>56</td>\n",
       "      <td>1</td>\n",
       "      <td>1</td>\n",
       "      <td>120</td>\n",
       "      <td>236</td>\n",
       "      <td>0</td>\n",
       "      <td>1</td>\n",
       "      <td>178</td>\n",
       "      <td>0</td>\n",
       "      <td>0.8</td>\n",
       "      <td>2</td>\n",
       "      <td>0</td>\n",
       "      <td>2</td>\n",
       "    </tr>\n",
       "    <tr>\n",
       "      <th>4</th>\n",
       "      <td>57</td>\n",
       "      <td>0</td>\n",
       "      <td>0</td>\n",
       "      <td>120</td>\n",
       "      <td>354</td>\n",
       "      <td>0</td>\n",
       "      <td>1</td>\n",
       "      <td>163</td>\n",
       "      <td>1</td>\n",
       "      <td>0.6</td>\n",
       "      <td>2</td>\n",
       "      <td>0</td>\n",
       "      <td>2</td>\n",
       "    </tr>\n",
       "  </tbody>\n",
       "</table>\n",
       "</div>"
      ],
      "text/plain": [
       "   age  sex  chesta_pain_type  resting_blood_pressure  cholesterol  \\\n",
       "0   63    1                 3                     145          233   \n",
       "1   37    1                 2                     130          250   \n",
       "2   41    0                 1                     130          204   \n",
       "3   56    1                 1                     120          236   \n",
       "4   57    0                 0                     120          354   \n",
       "\n",
       "   fasting_blood_sugar  rest_ecg  max_heart_reate_achieved  \\\n",
       "0                    1         0                       150   \n",
       "1                    0         1                       187   \n",
       "2                    0         0                       172   \n",
       "3                    0         1                       178   \n",
       "4                    0         1                       163   \n",
       "\n",
       "   exercise_induced_angina  st_depression  st_slope  num_major_vessels  \\\n",
       "0                        0            2.3         0                  0   \n",
       "1                        0            3.5         0                  0   \n",
       "2                        0            1.4         2                  0   \n",
       "3                        0            0.8         2                  0   \n",
       "4                        1            0.6         2                  0   \n",
       "\n",
       "   thalassemia  \n",
       "0            1  \n",
       "1            2  \n",
       "2            2  \n",
       "3            2  \n",
       "4            2  "
      ]
     },
     "execution_count": 14,
     "metadata": {},
     "output_type": "execute_result"
    }
   ],
   "source": [
    "df3.head()"
   ]
  },
  {
   "cell_type": "code",
   "execution_count": 96,
   "id": "a1266f5f-13a3-4aa6-9cd8-bd4eac24bd69",
   "metadata": {},
   "outputs": [
    {
     "data": {
      "text/html": [
       "<div>\n",
       "<style scoped>\n",
       "    .dataframe tbody tr th:only-of-type {\n",
       "        vertical-align: middle;\n",
       "    }\n",
       "\n",
       "    .dataframe tbody tr th {\n",
       "        vertical-align: top;\n",
       "    }\n",
       "\n",
       "    .dataframe thead th {\n",
       "        text-align: right;\n",
       "    }\n",
       "</style>\n",
       "<table border=\"1\" class=\"dataframe\">\n",
       "  <thead>\n",
       "    <tr style=\"text-align: right;\">\n",
       "      <th></th>\n",
       "      <th>target</th>\n",
       "    </tr>\n",
       "  </thead>\n",
       "  <tbody>\n",
       "    <tr>\n",
       "      <th>0</th>\n",
       "      <td>1</td>\n",
       "    </tr>\n",
       "    <tr>\n",
       "      <th>1</th>\n",
       "      <td>1</td>\n",
       "    </tr>\n",
       "    <tr>\n",
       "      <th>2</th>\n",
       "      <td>1</td>\n",
       "    </tr>\n",
       "    <tr>\n",
       "      <th>3</th>\n",
       "      <td>1</td>\n",
       "    </tr>\n",
       "    <tr>\n",
       "      <th>4</th>\n",
       "      <td>1</td>\n",
       "    </tr>\n",
       "  </tbody>\n",
       "</table>\n",
       "</div>"
      ],
      "text/plain": [
       "   target\n",
       "0       1\n",
       "1       1\n",
       "2       1\n",
       "3       1\n",
       "4       1"
      ]
     },
     "execution_count": 96,
     "metadata": {},
     "output_type": "execute_result"
    }
   ],
   "source": [
    "label.head()"
   ]
  },
  {
   "cell_type": "code",
   "execution_count": 16,
   "id": "16520e5f-25bb-40fe-9776-afb2dca4e20d",
   "metadata": {},
   "outputs": [
    {
     "data": {
      "text/plain": [
       "age                           int64\n",
       "sex                           int64\n",
       "chesta_pain_type              int64\n",
       "resting_blood_pressure        int64\n",
       "cholesterol                   int64\n",
       "fasting_blood_sugar           int64\n",
       "rest_ecg                      int64\n",
       "max_heart_reate_achieved      int64\n",
       "exercise_induced_angina       int64\n",
       "st_depression               float64\n",
       "st_slope                      int64\n",
       "num_major_vessels             int64\n",
       "thalassemia                   int64\n",
       "dtype: object"
      ]
     },
     "execution_count": 16,
     "metadata": {},
     "output_type": "execute_result"
    }
   ],
   "source": [
    "df3.dtypes"
   ]
  },
  {
   "cell_type": "code",
   "execution_count": 18,
   "id": "80e48538-7ebf-4772-89ad-04511645c0f3",
   "metadata": {},
   "outputs": [
    {
     "data": {
      "text/html": [
       "<div>\n",
       "<style scoped>\n",
       "    .dataframe tbody tr th:only-of-type {\n",
       "        vertical-align: middle;\n",
       "    }\n",
       "\n",
       "    .dataframe tbody tr th {\n",
       "        vertical-align: top;\n",
       "    }\n",
       "\n",
       "    .dataframe thead th {\n",
       "        text-align: right;\n",
       "    }\n",
       "</style>\n",
       "<table border=\"1\" class=\"dataframe\">\n",
       "  <thead>\n",
       "    <tr style=\"text-align: right;\">\n",
       "      <th></th>\n",
       "      <th>age</th>\n",
       "      <th>sex</th>\n",
       "      <th>chesta_pain_type</th>\n",
       "      <th>fasting_blood_sugar</th>\n",
       "      <th>rest_ecg</th>\n",
       "      <th>exercise_induced_angina</th>\n",
       "      <th>st_depression</th>\n",
       "      <th>st_slope</th>\n",
       "      <th>num_major_vessels</th>\n",
       "      <th>Scaled_RPG</th>\n",
       "      <th>Scaled_chol</th>\n",
       "      <th>Scaled_thal</th>\n",
       "      <th>Scaled_max_heart_rate</th>\n",
       "    </tr>\n",
       "  </thead>\n",
       "  <tbody>\n",
       "    <tr>\n",
       "      <th>0</th>\n",
       "      <td>63</td>\n",
       "      <td>1</td>\n",
       "      <td>3</td>\n",
       "      <td>1</td>\n",
       "      <td>0</td>\n",
       "      <td>0</td>\n",
       "      <td>2.3</td>\n",
       "      <td>0</td>\n",
       "      <td>0</td>\n",
       "      <td>0.481132</td>\n",
       "      <td>0.244292</td>\n",
       "      <td>0.333333</td>\n",
       "      <td>0.603053</td>\n",
       "    </tr>\n",
       "    <tr>\n",
       "      <th>1</th>\n",
       "      <td>37</td>\n",
       "      <td>1</td>\n",
       "      <td>2</td>\n",
       "      <td>0</td>\n",
       "      <td>1</td>\n",
       "      <td>0</td>\n",
       "      <td>3.5</td>\n",
       "      <td>0</td>\n",
       "      <td>0</td>\n",
       "      <td>0.339623</td>\n",
       "      <td>0.283105</td>\n",
       "      <td>0.666667</td>\n",
       "      <td>0.885496</td>\n",
       "    </tr>\n",
       "    <tr>\n",
       "      <th>2</th>\n",
       "      <td>41</td>\n",
       "      <td>0</td>\n",
       "      <td>1</td>\n",
       "      <td>0</td>\n",
       "      <td>0</td>\n",
       "      <td>0</td>\n",
       "      <td>1.4</td>\n",
       "      <td>2</td>\n",
       "      <td>0</td>\n",
       "      <td>0.339623</td>\n",
       "      <td>0.178082</td>\n",
       "      <td>0.666667</td>\n",
       "      <td>0.770992</td>\n",
       "    </tr>\n",
       "    <tr>\n",
       "      <th>3</th>\n",
       "      <td>56</td>\n",
       "      <td>1</td>\n",
       "      <td>1</td>\n",
       "      <td>0</td>\n",
       "      <td>1</td>\n",
       "      <td>0</td>\n",
       "      <td>0.8</td>\n",
       "      <td>2</td>\n",
       "      <td>0</td>\n",
       "      <td>0.245283</td>\n",
       "      <td>0.251142</td>\n",
       "      <td>0.666667</td>\n",
       "      <td>0.816794</td>\n",
       "    </tr>\n",
       "    <tr>\n",
       "      <th>4</th>\n",
       "      <td>57</td>\n",
       "      <td>0</td>\n",
       "      <td>0</td>\n",
       "      <td>0</td>\n",
       "      <td>1</td>\n",
       "      <td>1</td>\n",
       "      <td>0.6</td>\n",
       "      <td>2</td>\n",
       "      <td>0</td>\n",
       "      <td>0.245283</td>\n",
       "      <td>0.520548</td>\n",
       "      <td>0.666667</td>\n",
       "      <td>0.702290</td>\n",
       "    </tr>\n",
       "  </tbody>\n",
       "</table>\n",
       "</div>"
      ],
      "text/plain": [
       "   age  sex  chesta_pain_type  fasting_blood_sugar  rest_ecg  \\\n",
       "0   63    1                 3                    1         0   \n",
       "1   37    1                 2                    0         1   \n",
       "2   41    0                 1                    0         0   \n",
       "3   56    1                 1                    0         1   \n",
       "4   57    0                 0                    0         1   \n",
       "\n",
       "   exercise_induced_angina  st_depression  st_slope  num_major_vessels  \\\n",
       "0                        0            2.3         0                  0   \n",
       "1                        0            3.5         0                  0   \n",
       "2                        0            1.4         2                  0   \n",
       "3                        0            0.8         2                  0   \n",
       "4                        1            0.6         2                  0   \n",
       "\n",
       "   Scaled_RPG  Scaled_chol  Scaled_thal  Scaled_max_heart_rate  \n",
       "0    0.481132     0.244292     0.333333               0.603053  \n",
       "1    0.339623     0.283105     0.666667               0.885496  \n",
       "2    0.339623     0.178082     0.666667               0.770992  \n",
       "3    0.245283     0.251142     0.666667               0.816794  \n",
       "4    0.245283     0.520548     0.666667               0.702290  "
      ]
     },
     "execution_count": 18,
     "metadata": {},
     "output_type": "execute_result"
    }
   ],
   "source": [
    "# Dealing with Outliers - 'resting_blood_pressure' 'cholesterol', 'thalassemia'\n",
    "\n",
    "#Normalize the data\n",
    "scaler = MinMaxScaler()\n",
    "\n",
    "df3[\"Scaled_RPG\"] = scaler.fit_transform(df3['resting_blood_pressure'].values.reshape(-1, 1))\n",
    "df3[\"Scaled_chol\"] = scaler.fit_transform(df3['cholesterol'].values.reshape(-1, 1))\n",
    "df3[\"Scaled_thal\"] = scaler.fit_transform(df3['thalassemia'].values.reshape(-1, 1))\n",
    "df3[\"Scaled_max_heart_rate\"] = scaler.fit_transform(df3['max_heart_reate_achieved'].values.reshape(-1, 1))\n",
    "\n",
    "df3.drop(['resting_blood_pressure', 'cholesterol', 'thalassemia', 'max_heart_reate_achieved'], axis=1, inplace=True)\n",
    "\n",
    "df3.head()"
   ]
  },
  {
   "cell_type": "code",
   "execution_count": null,
   "id": "6bf53e90-3e54-438e-80b1-66c82b6b3fc8",
   "metadata": {},
   "outputs": [],
   "source": []
  },
  {
   "cell_type": "markdown",
   "id": "d83fcf92-018d-4639-936c-7b77b32d7f97",
   "metadata": {},
   "source": [
    "### Machine Learning"
   ]
  },
  {
   "cell_type": "code",
   "execution_count": 20,
   "id": "38ace854-d483-42b3-a38d-1b4c17eea26d",
   "metadata": {},
   "outputs": [],
   "source": [
    "# Split the dataset into training and testing sets - x = Question y = Answers\n",
    "x_train, x_test, y_train, y_test = train_test_split(df3, label, test_size=0.2, random_state=42)"
   ]
  },
  {
   "cell_type": "code",
   "execution_count": 22,
   "id": "155f8b32-1891-438f-ba79-671cd0aafe54",
   "metadata": {},
   "outputs": [
    {
     "data": {
      "text/html": [
       "<div>\n",
       "<style scoped>\n",
       "    .dataframe tbody tr th:only-of-type {\n",
       "        vertical-align: middle;\n",
       "    }\n",
       "\n",
       "    .dataframe tbody tr th {\n",
       "        vertical-align: top;\n",
       "    }\n",
       "\n",
       "    .dataframe thead th {\n",
       "        text-align: right;\n",
       "    }\n",
       "</style>\n",
       "<table border=\"1\" class=\"dataframe\">\n",
       "  <thead>\n",
       "    <tr style=\"text-align: right;\">\n",
       "      <th></th>\n",
       "      <th>age</th>\n",
       "      <th>sex</th>\n",
       "      <th>chesta_pain_type</th>\n",
       "      <th>fasting_blood_sugar</th>\n",
       "      <th>rest_ecg</th>\n",
       "      <th>exercise_induced_angina</th>\n",
       "      <th>st_depression</th>\n",
       "      <th>st_slope</th>\n",
       "      <th>num_major_vessels</th>\n",
       "      <th>Scaled_RPG</th>\n",
       "      <th>Scaled_chol</th>\n",
       "      <th>Scaled_thal</th>\n",
       "      <th>Scaled_max_heart_rate</th>\n",
       "    </tr>\n",
       "  </thead>\n",
       "  <tbody>\n",
       "    <tr>\n",
       "      <th>132</th>\n",
       "      <td>42</td>\n",
       "      <td>1</td>\n",
       "      <td>1</td>\n",
       "      <td>0</td>\n",
       "      <td>1</td>\n",
       "      <td>0</td>\n",
       "      <td>0.0</td>\n",
       "      <td>2</td>\n",
       "      <td>0</td>\n",
       "      <td>0.245283</td>\n",
       "      <td>0.385845</td>\n",
       "      <td>0.666667</td>\n",
       "      <td>0.694656</td>\n",
       "    </tr>\n",
       "    <tr>\n",
       "      <th>202</th>\n",
       "      <td>58</td>\n",
       "      <td>1</td>\n",
       "      <td>0</td>\n",
       "      <td>0</td>\n",
       "      <td>0</td>\n",
       "      <td>1</td>\n",
       "      <td>0.8</td>\n",
       "      <td>2</td>\n",
       "      <td>0</td>\n",
       "      <td>0.528302</td>\n",
       "      <td>0.328767</td>\n",
       "      <td>1.000000</td>\n",
       "      <td>0.305344</td>\n",
       "    </tr>\n",
       "    <tr>\n",
       "      <th>196</th>\n",
       "      <td>46</td>\n",
       "      <td>1</td>\n",
       "      <td>2</td>\n",
       "      <td>0</td>\n",
       "      <td>1</td>\n",
       "      <td>0</td>\n",
       "      <td>3.6</td>\n",
       "      <td>1</td>\n",
       "      <td>0</td>\n",
       "      <td>0.528302</td>\n",
       "      <td>0.239726</td>\n",
       "      <td>0.666667</td>\n",
       "      <td>0.580153</td>\n",
       "    </tr>\n",
       "  </tbody>\n",
       "</table>\n",
       "</div>"
      ],
      "text/plain": [
       "     age  sex  chesta_pain_type  fasting_blood_sugar  rest_ecg  \\\n",
       "132   42    1                 1                    0         1   \n",
       "202   58    1                 0                    0         0   \n",
       "196   46    1                 2                    0         1   \n",
       "\n",
       "     exercise_induced_angina  st_depression  st_slope  num_major_vessels  \\\n",
       "132                        0            0.0         2                  0   \n",
       "202                        1            0.8         2                  0   \n",
       "196                        0            3.6         1                  0   \n",
       "\n",
       "     Scaled_RPG  Scaled_chol  Scaled_thal  Scaled_max_heart_rate  \n",
       "132    0.245283     0.385845     0.666667               0.694656  \n",
       "202    0.528302     0.328767     1.000000               0.305344  \n",
       "196    0.528302     0.239726     0.666667               0.580153  "
      ]
     },
     "execution_count": 22,
     "metadata": {},
     "output_type": "execute_result"
    }
   ],
   "source": [
    "x_train.head(3)"
   ]
  },
  {
   "cell_type": "code",
   "execution_count": 24,
   "id": "410b32a7-107b-49ce-911a-60386bd9350b",
   "metadata": {},
   "outputs": [
    {
     "data": {
      "text/html": [
       "<div>\n",
       "<style scoped>\n",
       "    .dataframe tbody tr th:only-of-type {\n",
       "        vertical-align: middle;\n",
       "    }\n",
       "\n",
       "    .dataframe tbody tr th {\n",
       "        vertical-align: top;\n",
       "    }\n",
       "\n",
       "    .dataframe thead th {\n",
       "        text-align: right;\n",
       "    }\n",
       "</style>\n",
       "<table border=\"1\" class=\"dataframe\">\n",
       "  <thead>\n",
       "    <tr style=\"text-align: right;\">\n",
       "      <th></th>\n",
       "      <th>target</th>\n",
       "    </tr>\n",
       "  </thead>\n",
       "  <tbody>\n",
       "    <tr>\n",
       "      <th>132</th>\n",
       "      <td>1</td>\n",
       "    </tr>\n",
       "    <tr>\n",
       "      <th>202</th>\n",
       "      <td>0</td>\n",
       "    </tr>\n",
       "    <tr>\n",
       "      <th>196</th>\n",
       "      <td>0</td>\n",
       "    </tr>\n",
       "  </tbody>\n",
       "</table>\n",
       "</div>"
      ],
      "text/plain": [
       "     target\n",
       "132       1\n",
       "202       0\n",
       "196       0"
      ]
     },
     "execution_count": 24,
     "metadata": {},
     "output_type": "execute_result"
    }
   ],
   "source": [
    "y_train.head(3)"
   ]
  },
  {
   "cell_type": "code",
   "execution_count": 26,
   "id": "6d0ae375-52b9-4de1-a089-a0f4fb09b8aa",
   "metadata": {},
   "outputs": [
    {
     "name": "stdout",
     "output_type": "stream",
     "text": [
      "Logistic Regression\n",
      "Accuracy 0.8360655737704918\n",
      "Precision 0.8666666666666667\n",
      "Recall 0.8125\n",
      "F1-score 0.8387096774193549\n",
      "AUC-ROC 0.8372844827586207\n"
     ]
    }
   ],
   "source": [
    "# Model Building \n",
    "# logistics Regression\n",
    "\n",
    "logreg = LogisticRegression()\n",
    "\n",
    "logreg.fit(x_train, y_train)\n",
    "\n",
    "ly_pred = logreg.predict(x_test)\n",
    "\n",
    "print(\"Logistic Regression\")\n",
    "print(\"Accuracy\", accuracy_score(y_test, ly_pred))\n",
    "print(\"Precision\", precision_score(y_test, ly_pred))\n",
    "print(\"Recall\", recall_score(y_test, ly_pred))\n",
    "print(\"F1-score\", f1_score(y_test, ly_pred))\n",
    "print(\"AUC-ROC\", roc_auc_score(y_test, ly_pred))"
   ]
  },
  {
   "cell_type": "code",
   "execution_count": 30,
   "id": "cafa8a3f-9f74-4b85-98b7-b51cd03b1e18",
   "metadata": {},
   "outputs": [
    {
     "data": {
      "text/plain": [
       "array([0, 1, 1, 0, 1, 1, 1, 0, 0, 0, 1, 0, 1, 0, 1, 1, 1, 0, 0, 0, 1, 0,\n",
       "       0, 1, 1, 1, 1, 0, 0, 1, 0, 0, 0, 0, 1, 0, 1, 1, 1, 1, 0, 1, 1, 1,\n",
       "       1, 0, 1, 1, 0, 0, 0, 0, 1, 1, 0, 0, 0, 1, 0, 0, 0], dtype=int64)"
      ]
     },
     "execution_count": 30,
     "metadata": {},
     "output_type": "execute_result"
    }
   ],
   "source": [
    "ly_pred"
   ]
  },
  {
   "cell_type": "code",
   "execution_count": 32,
   "id": "db77ecd3-086f-4ae2-ab7b-e64215b5f571",
   "metadata": {},
   "outputs": [
    {
     "data": {
      "text/html": [
       "<div>\n",
       "<style scoped>\n",
       "    .dataframe tbody tr th:only-of-type {\n",
       "        vertical-align: middle;\n",
       "    }\n",
       "\n",
       "    .dataframe tbody tr th {\n",
       "        vertical-align: top;\n",
       "    }\n",
       "\n",
       "    .dataframe thead th {\n",
       "        text-align: right;\n",
       "    }\n",
       "</style>\n",
       "<table border=\"1\" class=\"dataframe\">\n",
       "  <thead>\n",
       "    <tr style=\"text-align: right;\">\n",
       "      <th></th>\n",
       "      <th>target</th>\n",
       "    </tr>\n",
       "  </thead>\n",
       "  <tbody>\n",
       "    <tr>\n",
       "      <th>179</th>\n",
       "      <td>0</td>\n",
       "    </tr>\n",
       "    <tr>\n",
       "      <th>228</th>\n",
       "      <td>0</td>\n",
       "    </tr>\n",
       "    <tr>\n",
       "      <th>111</th>\n",
       "      <td>1</td>\n",
       "    </tr>\n",
       "    <tr>\n",
       "      <th>246</th>\n",
       "      <td>0</td>\n",
       "    </tr>\n",
       "    <tr>\n",
       "      <th>60</th>\n",
       "      <td>1</td>\n",
       "    </tr>\n",
       "    <tr>\n",
       "      <th>...</th>\n",
       "      <td>...</td>\n",
       "    </tr>\n",
       "    <tr>\n",
       "      <th>249</th>\n",
       "      <td>0</td>\n",
       "    </tr>\n",
       "    <tr>\n",
       "      <th>104</th>\n",
       "      <td>1</td>\n",
       "    </tr>\n",
       "    <tr>\n",
       "      <th>300</th>\n",
       "      <td>0</td>\n",
       "    </tr>\n",
       "    <tr>\n",
       "      <th>193</th>\n",
       "      <td>0</td>\n",
       "    </tr>\n",
       "    <tr>\n",
       "      <th>184</th>\n",
       "      <td>0</td>\n",
       "    </tr>\n",
       "  </tbody>\n",
       "</table>\n",
       "<p>61 rows × 1 columns</p>\n",
       "</div>"
      ],
      "text/plain": [
       "     target\n",
       "179       0\n",
       "228       0\n",
       "111       1\n",
       "246       0\n",
       "60        1\n",
       "..      ...\n",
       "249       0\n",
       "104       1\n",
       "300       0\n",
       "193       0\n",
       "184       0\n",
       "\n",
       "[61 rows x 1 columns]"
      ]
     },
     "execution_count": 32,
     "metadata": {},
     "output_type": "execute_result"
    }
   ],
   "source": [
    "y_test"
   ]
  },
  {
   "cell_type": "code",
   "execution_count": null,
   "id": "373c9321-83fa-468c-bc1a-8f4c2dd5904a",
   "metadata": {},
   "outputs": [],
   "source": []
  },
  {
   "cell_type": "code",
   "execution_count": 51,
   "id": "dca5cb68-dc5b-4e7b-bec1-fb9579a62468",
   "metadata": {},
   "outputs": [
    {
     "data": {
      "image/png": "[encoded data removed]",
      "text/plain": [
       "<Figure size 640x480 with 2 Axes>"
      ]
     },
     "metadata": {},
     "output_type": "display_data"
    }
   ],
   "source": [
    "# create a confusion matrix\n",
    "lcm = confusion_matrix(y_test, ly_pred)\n",
    "\n",
    "# Visualize the confusion matrix\n",
    "sns.heatmap(lcm, annot=True, cmap=\"Blues\", fmt=\"g\")\n",
    "plt.xlabel(\"Predicted\")\n",
    "plt.ylabel(\"Actual\")\n",
    "plt.title(\"Confusion matrix\")\n",
    "plt.show()"
   ]
  },
  {
   "cell_type": "code",
   "execution_count": null,
   "id": "4127dcd1-f817-459c-b17e-d9b586766825",
   "metadata": {},
   "outputs": [],
   "source": []
  },
  {
   "cell_type": "code",
   "execution_count": null,
   "id": "02646d94-912c-43eb-bd41-ec341bc91610",
   "metadata": {},
   "outputs": [],
   "source": []
  },
  {
   "cell_type": "code",
   "execution_count": 46,
   "id": "8a9d4c4b-02dd-43b1-b2bc-9d0ca2eb032c",
   "metadata": {},
   "outputs": [
    {
     "name": "stdout",
     "output_type": "stream",
     "text": [
      "Random Forest\n",
      "Accuracy: 0.8688524590163934\n",
      "Precision: 0.8529411764705882\n",
      "Recall: 0.90625\n",
      "F1-score: 0.8787878787878788\n",
      "AUC-ROC: 0.8669181034482758\n"
     ]
    }
   ],
   "source": [
    "# Model Buidling\n",
    "# Random Forest Classifier\n",
    "\n",
    "rfc = RandomForestClassifier()\n",
    "rfc.fit(x_train, y_train)\n",
    "rfy_pred = rfc.predict(x_test)\n",
    "\n",
    "print(\"Random Forest\")\n",
    "print(\"Accuracy:\", accuracy_score(y_test, rfy_pred))\n",
    "print(\"Precision:\", precision_score(y_test, rfy_pred))\n",
    "print(\"Recall:\", recall_score(y_test, rfy_pred))\n",
    "print(\"F1-score:\", f1_score(y_test, rfy_pred))\n",
    "print(\"AUC-ROC:\", roc_auc_score(y_test, rfy_pred))"
   ]
  },
  {
   "cell_type": "code",
   "execution_count": 44,
   "id": "dd3671ed-8ae3-4419-b2e5-b423065bd2fb",
   "metadata": {},
   "outputs": [
    {
     "data": {
      "image/png": "[encoded data removed]",
      "text/plain": [
       "<Figure size 640x480 with 2 Axes>"
      ]
     },
     "metadata": {},
     "output_type": "display_data"
    }
   ],
   "source": [
    "# Create a confusion matrix\n",
    "rcm = confusion_matrix(y_test, rfy_pred)\n",
    "\n",
    "# Visualize the confusion matrix\n",
    "sns.heatmap(rcm, annot=True, cmap=\"Blues\", fmt=\"g\")\n",
    "plt.xlabel(\"Predicted\")\n",
    "plt.ylabel(\"Actual\")\n",
    "plt.title(\"Confusion Matrix\")\n",
    "plt.show()"
   ]
  },
  {
   "cell_type": "code",
   "execution_count": null,
   "id": "94436703-4704-41dc-ad89-02f9c2f988e9",
   "metadata": {},
   "outputs": [],
   "source": []
  },
  {
   "cell_type": "code",
   "execution_count": 59,
   "id": "6f36bdc4-fdd6-47c7-9524-e1b6cfd0f626",
   "metadata": {},
   "outputs": [],
   "source": [
    "# deploying Machine Learning Algorithm to the dataset\n",
    "\n",
    "classifiers = [[XGBClassifier(), \"XGB Classifier\"],\n",
    "               [RandomForestClassifier(), \"Rendom Forest\"],\n",
    "               [KNeighborsClassifier(), \"k-Nearest Neighbours\"],\n",
    "               [SGDClassifier(), \"SGD Classifier\"],\n",
    "               [SVC(), \"SVC\"],\n",
    "               [GaussianNB(), \"Naive Bayes\"],\n",
    "               [DecisionTreeClassifier(random_state=42), \"Decision tree\"],\n",
    "               [LogisticRegression(), \"Logistic Regression\"]\n",
    "              ]"
   ]
  },
  {
   "cell_type": "code",
   "execution_count": 63,
   "id": "dc0281e2-c4a4-4340-83c8-8d55ae24a0d1",
   "metadata": {},
   "outputs": [
    {
     "data": {
      "text/plain": [
       "[[XGBClassifier(base_score=None, booster=None, callbacks=None,\n",
       "                colsample_bylevel=None, colsample_bynode=None,\n",
       "                colsample_bytree=None, device=None, early_stopping_rounds=None,\n",
       "                enable_categorical=False, eval_metric=None, feature_types=None,\n",
       "                feature_weights=None, gamma=None, grow_policy=None,\n",
       "                importance_type=None, interaction_constraints=None,\n",
       "                learning_rate=None, max_bin=None, max_cat_threshold=None,\n",
       "                max_cat_to_onehot=None, max_delta_step=None, max_depth=None,\n",
       "                max_leaves=None, min_child_weight=None, missing=nan,\n",
       "                monotone_constraints=None, multi_strategy=None, n_estimators=None,\n",
       "                n_jobs=None, num_parallel_tree=None, ...),\n",
       "  'XGB Classifier'],\n",
       " [RandomForestClassifier(), 'Rendom Forest'],\n",
       " [KNeighborsClassifier(), 'k-Nearest Neighbours'],\n",
       " [SGDClassifier(), 'SGD Classifier'],\n",
       " [SVC(), 'SVC'],\n",
       " [GaussianNB(), 'Naive Bayes'],\n",
       " [DecisionTreeClassifier(random_state=42), 'Decision tree'],\n",
       " [LogisticRegression(), 'Logistic Regression']]"
      ]
     },
     "execution_count": 63,
     "metadata": {},
     "output_type": "execute_result"
    }
   ],
   "source": [
    "classifiers\n"
   ]
  },
  {
   "cell_type": "code",
   "execution_count": 75,
   "id": "244257fc-0f5d-46f5-97ec-30eb0b821db6",
   "metadata": {},
   "outputs": [
    {
     "name": "stdout",
     "output_type": "stream",
     "text": [
      "\n",
      "\n",
      "\n",
      "\n",
      "\n",
      "\n",
      "\n",
      "\n"
     ]
    }
   ],
   "source": [
    "acc_list = {}\n",
    "precision_list = {}\n",
    "recall_list = {}\n",
    "roc_list = {}\n",
    "\n",
    "for classifier in classifiers:\n",
    "    model = classifier[0]\n",
    "    model.fit(x_train, y_train)\n",
    "    model_name = classifier[1]\n",
    "\n",
    "    pred = model.predict(x_test)\n",
    "\n",
    "    a_score = accuracy_score(y_test, pred)\n",
    "    p_score = precision_score(y_test, pred)\n",
    "    r_score = recall_score(y_test, pred)\n",
    "    roc_score = roc_auc_score(y_test, pred)\n",
    "\n",
    "    acc_list[model_name] = ([str(round(a_score*100, 2)) + '%'])\n",
    "    precision_list[model_name] = ([str(round(p_score*100, 2)) + '%'])\n",
    "    recall_list[model_name] = ([str(round(r_score*100, 2)) + '%'])\n",
    "    roc_list[model_name] = ([str(round(roc_score*100, 2)) + '%'])\n",
    "\n",
    "    if model_name != classifier[-1][1]:\n",
    "        print('')"
   ]
  },
  {
   "cell_type": "code",
   "execution_count": 77,
   "id": "c1e435e7-db99-4f34-bb6f-b3f93de7f704",
   "metadata": {},
   "outputs": [
    {
     "data": {
      "text/plain": [
       "{'XGB Classifier': ['81.97%'],\n",
       " 'Rendom Forest': ['85.25%'],\n",
       " 'k-Nearest Neighbours': ['75.41%'],\n",
       " 'SGD Classifier': ['57.38%'],\n",
       " 'SVC': ['65.57%'],\n",
       " 'Naive Bayes': ['86.89%'],\n",
       " 'Decision tree': ['85.25%'],\n",
       " 'Logistic Regression': ['83.61%']}"
      ]
     },
     "execution_count": 77,
     "metadata": {},
     "output_type": "execute_result"
    }
   ],
   "source": [
    "acc_list"
   ]
  },
  {
   "cell_type": "code",
   "execution_count": 79,
   "id": "d2f3053b-6935-4353-9518-8e9ff1fd7d99",
   "metadata": {},
   "outputs": [
    {
     "name": "stdout",
     "output_type": "stream",
     "text": [
      "Accuracy Score\n"
     ]
    },
    {
     "data": {
      "text/html": [
       "<div>\n",
       "<style scoped>\n",
       "    .dataframe tbody tr th:only-of-type {\n",
       "        vertical-align: middle;\n",
       "    }\n",
       "\n",
       "    .dataframe tbody tr th {\n",
       "        vertical-align: top;\n",
       "    }\n",
       "\n",
       "    .dataframe thead th {\n",
       "        text-align: right;\n",
       "    }\n",
       "</style>\n",
       "<table border=\"1\" class=\"dataframe\">\n",
       "  <thead>\n",
       "    <tr style=\"text-align: right;\">\n",
       "      <th></th>\n",
       "      <th>XGB Classifier</th>\n",
       "      <th>Rendom Forest</th>\n",
       "      <th>k-Nearest Neighbours</th>\n",
       "      <th>SGD Classifier</th>\n",
       "      <th>SVC</th>\n",
       "      <th>Naive Bayes</th>\n",
       "      <th>Decision tree</th>\n",
       "      <th>Logistic Regression</th>\n",
       "    </tr>\n",
       "  </thead>\n",
       "  <tbody>\n",
       "    <tr>\n",
       "      <th>0</th>\n",
       "      <td>81.97%</td>\n",
       "      <td>85.25%</td>\n",
       "      <td>75.41%</td>\n",
       "      <td>57.38%</td>\n",
       "      <td>65.57%</td>\n",
       "      <td>86.89%</td>\n",
       "      <td>85.25%</td>\n",
       "      <td>83.61%</td>\n",
       "    </tr>\n",
       "  </tbody>\n",
       "</table>\n",
       "</div>"
      ],
      "text/plain": [
       "  XGB Classifier Rendom Forest k-Nearest Neighbours SGD Classifier     SVC  \\\n",
       "0         81.97%        85.25%               75.41%         57.38%  65.57%   \n",
       "\n",
       "  Naive Bayes Decision tree Logistic Regression  \n",
       "0      86.89%        85.25%              83.61%  "
      ]
     },
     "execution_count": 79,
     "metadata": {},
     "output_type": "execute_result"
    }
   ],
   "source": [
    "print(\"Accuracy Score\")\n",
    "s1 = pd.DataFrame(acc_list)\n",
    "s1.head()"
   ]
  },
  {
   "cell_type": "code",
   "execution_count": 81,
   "id": "7d87ce0e-2b8d-41a5-a4e8-6bcafe786e9f",
   "metadata": {},
   "outputs": [
    {
     "name": "stdout",
     "output_type": "stream",
     "text": [
      "Precision Score\n"
     ]
    },
    {
     "data": {
      "text/html": [
       "<div>\n",
       "<style scoped>\n",
       "    .dataframe tbody tr th:only-of-type {\n",
       "        vertical-align: middle;\n",
       "    }\n",
       "\n",
       "    .dataframe tbody tr th {\n",
       "        vertical-align: top;\n",
       "    }\n",
       "\n",
       "    .dataframe thead th {\n",
       "        text-align: right;\n",
       "    }\n",
       "</style>\n",
       "<table border=\"1\" class=\"dataframe\">\n",
       "  <thead>\n",
       "    <tr style=\"text-align: right;\">\n",
       "      <th></th>\n",
       "      <th>XGB Classifier</th>\n",
       "      <th>Rendom Forest</th>\n",
       "      <th>k-Nearest Neighbours</th>\n",
       "      <th>SGD Classifier</th>\n",
       "      <th>SVC</th>\n",
       "      <th>Naive Bayes</th>\n",
       "      <th>Decision tree</th>\n",
       "      <th>Logistic Regression</th>\n",
       "    </tr>\n",
       "  </thead>\n",
       "  <tbody>\n",
       "    <tr>\n",
       "      <th>0</th>\n",
       "      <td>86.21%</td>\n",
       "      <td>84.85%</td>\n",
       "      <td>79.31%</td>\n",
       "      <td>80.0%</td>\n",
       "      <td>65.71%</td>\n",
       "      <td>90.0%</td>\n",
       "      <td>92.59%</td>\n",
       "      <td>86.67%</td>\n",
       "    </tr>\n",
       "  </tbody>\n",
       "</table>\n",
       "</div>"
      ],
      "text/plain": [
       "  XGB Classifier Rendom Forest k-Nearest Neighbours SGD Classifier     SVC  \\\n",
       "0         86.21%        84.85%               79.31%          80.0%  65.71%   \n",
       "\n",
       "  Naive Bayes Decision tree Logistic Regression  \n",
       "0       90.0%        92.59%              86.67%  "
      ]
     },
     "execution_count": 81,
     "metadata": {},
     "output_type": "execute_result"
    }
   ],
   "source": [
    "print(\"Precision Score\")\n",
    "s2 = pd.DataFrame(precision_list)\n",
    "s2.head()"
   ]
  },
  {
   "cell_type": "code",
   "execution_count": 83,
   "id": "1d7d3e21-59ec-49bf-a08d-68ae7a84f271",
   "metadata": {},
   "outputs": [
    {
     "name": "stdout",
     "output_type": "stream",
     "text": [
      "Recall Score\n"
     ]
    },
    {
     "data": {
      "text/html": [
       "<div>\n",
       "<style scoped>\n",
       "    .dataframe tbody tr th:only-of-type {\n",
       "        vertical-align: middle;\n",
       "    }\n",
       "\n",
       "    .dataframe tbody tr th {\n",
       "        vertical-align: top;\n",
       "    }\n",
       "\n",
       "    .dataframe thead th {\n",
       "        text-align: right;\n",
       "    }\n",
       "</style>\n",
       "<table border=\"1\" class=\"dataframe\">\n",
       "  <thead>\n",
       "    <tr style=\"text-align: right;\">\n",
       "      <th></th>\n",
       "      <th>XGB Classifier</th>\n",
       "      <th>Rendom Forest</th>\n",
       "      <th>k-Nearest Neighbours</th>\n",
       "      <th>SGD Classifier</th>\n",
       "      <th>SVC</th>\n",
       "      <th>Naive Bayes</th>\n",
       "      <th>Decision tree</th>\n",
       "      <th>Logistic Regression</th>\n",
       "    </tr>\n",
       "  </thead>\n",
       "  <tbody>\n",
       "    <tr>\n",
       "      <th>0</th>\n",
       "      <td>78.12%</td>\n",
       "      <td>87.5%</td>\n",
       "      <td>71.88%</td>\n",
       "      <td>25.0%</td>\n",
       "      <td>71.88%</td>\n",
       "      <td>84.38%</td>\n",
       "      <td>78.12%</td>\n",
       "      <td>81.25%</td>\n",
       "    </tr>\n",
       "  </tbody>\n",
       "</table>\n",
       "</div>"
      ],
      "text/plain": [
       "  XGB Classifier Rendom Forest k-Nearest Neighbours SGD Classifier     SVC  \\\n",
       "0         78.12%         87.5%               71.88%          25.0%  71.88%   \n",
       "\n",
       "  Naive Bayes Decision tree Logistic Regression  \n",
       "0      84.38%        78.12%              81.25%  "
      ]
     },
     "execution_count": 83,
     "metadata": {},
     "output_type": "execute_result"
    }
   ],
   "source": [
    "print(\"Recall Score\")\n",
    "s3 = pd.DataFrame(recall_list)\n",
    "s3.head()"
   ]
  },
  {
   "cell_type": "code",
   "execution_count": 85,
   "id": "841fd784-2c2b-4732-8583-54b50e227a1c",
   "metadata": {},
   "outputs": [
    {
     "name": "stdout",
     "output_type": "stream",
     "text": [
      "Roc Score\n"
     ]
    },
    {
     "data": {
      "text/html": [
       "<div>\n",
       "<style scoped>\n",
       "    .dataframe tbody tr th:only-of-type {\n",
       "        vertical-align: middle;\n",
       "    }\n",
       "\n",
       "    .dataframe tbody tr th {\n",
       "        vertical-align: top;\n",
       "    }\n",
       "\n",
       "    .dataframe thead th {\n",
       "        text-align: right;\n",
       "    }\n",
       "</style>\n",
       "<table border=\"1\" class=\"dataframe\">\n",
       "  <thead>\n",
       "    <tr style=\"text-align: right;\">\n",
       "      <th></th>\n",
       "      <th>XGB Classifier</th>\n",
       "      <th>Rendom Forest</th>\n",
       "      <th>k-Nearest Neighbours</th>\n",
       "      <th>SGD Classifier</th>\n",
       "      <th>SVC</th>\n",
       "      <th>Naive Bayes</th>\n",
       "      <th>Decision tree</th>\n",
       "      <th>Logistic Regression</th>\n",
       "    </tr>\n",
       "  </thead>\n",
       "  <tbody>\n",
       "    <tr>\n",
       "      <th>0</th>\n",
       "      <td>82.17%</td>\n",
       "      <td>85.13%</td>\n",
       "      <td>75.59%</td>\n",
       "      <td>59.05%</td>\n",
       "      <td>65.25%</td>\n",
       "      <td>87.02%</td>\n",
       "      <td>85.61%</td>\n",
       "      <td>83.73%</td>\n",
       "    </tr>\n",
       "  </tbody>\n",
       "</table>\n",
       "</div>"
      ],
      "text/plain": [
       "  XGB Classifier Rendom Forest k-Nearest Neighbours SGD Classifier     SVC  \\\n",
       "0         82.17%        85.13%               75.59%         59.05%  65.25%   \n",
       "\n",
       "  Naive Bayes Decision tree Logistic Regression  \n",
       "0      87.02%        85.61%              83.73%  "
      ]
     },
     "execution_count": 85,
     "metadata": {},
     "output_type": "execute_result"
    }
   ],
   "source": [
    "print(\"Roc Score\")\n",
    "s4 = pd.DataFrame(roc_list)\n",
    "s4.head()"
   ]
  },
  {
   "cell_type": "code",
   "execution_count": null,
   "id": "f6681e3e-a1f2-461a-8d0c-13d5c335bd2a",
   "metadata": {},
   "outputs": [],
   "source": []
  }
 ],
 "metadata": {
  "kernelspec": {
   "display_name": "Python 3 (ipykernel)",
   "language": "python",
   "name": "python3"
  },
  "language_info": {
   "codemirror_mode": {
    "name": "ipython",
    "version": 3
   },
   "file_extension": ".py",
   "mimetype": "text/x-python",
   "name": "python",
   "nbconvert_exporter": "python",
   "pygments_lexer": "ipython3",
   "version": "3.12.7"
  }
 },
 "nbformat": 4,
 "nbformat_minor": 5
}
